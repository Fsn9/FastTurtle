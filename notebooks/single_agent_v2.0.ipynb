{
 "cells": [
  {
   "cell_type": "markdown",
   "metadata": {
    "id": "uKZfaHPstn0G",
    "tags": []
   },
   "source": [
    "# **Swarm Robotics Competitions**\n",
    "\n",
    "### 2021/2022      \n",
    "\n",
    "## A. Pedro Aguiar\n",
    "<pedro.aguiar@fe.up.pt>\n",
    "<br>\n",
    "\n",
    "<br> FEUP Oct. 2021"
   ]
  },
  {
   "cell_type": "code",
   "execution_count": 5,
   "metadata": {},
   "outputs": [
    {
     "name": "stdout",
     "output_type": "stream",
     "text": [
      "/home/csr-g01/catkin_ws/src/fast_turtle\n"
     ]
    }
   ],
   "source": [
    "cd ~/catkin_ws/src/fast_turtle"
   ]
  },
  {
   "cell_type": "code",
   "execution_count": 32,
   "metadata": {},
   "outputs": [],
   "source": [
    "import sys\n",
    "sys.path.append('/home/csr-g01/catkin_ws/devel/lib/python3/dist-packages') #em xx subsituir pelo id da equipa (01-10)\n",
    "import rospy  \n",
    "from geometry_msgs.msg import Twist\n",
    "from nav_msgs.msg import Odometry\n",
    "from fast_turtle.srv import ResetArena, ResetArena_obs\n",
    "import math\n",
    "import numpy as np\n",
    "from dynamic_systems import Integrator\n",
    "import ipywidgets as wd"
   ]
  },
  {
   "cell_type": "code",
   "execution_count": 7,
   "metadata": {},
   "outputs": [],
   "source": [
    "team = '1' #change according to your team id"
   ]
  },
  {
   "cell_type": "code",
   "execution_count": 8,
   "metadata": {},
   "outputs": [],
   "source": [
    "rospy.wait_for_service('/reset_arena')\n",
    "reset_arena = rospy.ServiceProxy('/reset_arena', ResetArena)"
   ]
  },
  {
   "cell_type": "markdown",
   "metadata": {},
   "source": [
    "### Correr a célula abaixo para dar reset à arena!"
   ]
  },
  {
   "cell_type": "code",
   "execution_count": 9,
   "metadata": {},
   "outputs": [],
   "source": [
    "try:\n",
    "    reset_arena()\n",
    "except rospy.ServiceException as e:\n",
    "    print(\"Service call failed: %s\" + str(e))            "
   ]
  },
  {
   "cell_type": "code",
   "execution_count": 10,
   "metadata": {},
   "outputs": [],
   "source": [
    "rospy.init_node('example' + team, anonymous=True)"
   ]
  },
  {
   "cell_type": "code",
   "execution_count": 11,
   "metadata": {},
   "outputs": [],
   "source": [
    "pub0 = rospy.Publisher('/cmd_vel_sd0' + team, Twist, queue_size=10)"
   ]
  },
  {
   "cell_type": "markdown",
   "metadata": {
    "id": "wI8Ict2Ctn0L"
   },
   "source": [
    "\n",
    "\n",
    "Consider now an agent in the plane $(x,y)$ with single integrator dynamics in each axis, that is,\n",
    "\n",
    "$$ \n",
    "\\begin{align}\n",
    "\\dot x = u_x \\\\\n",
    "\\dot y = u_y \n",
    "\\end{align}\n",
    "$$\n"
   ]
  },
  {
   "cell_type": "code",
   "execution_count": 17,
   "metadata": {
    "id": "bzjOa_34tn0L"
   },
   "outputs": [
    {
     "name": "stdout",
     "output_type": "stream",
     "text": [
      "time t 0.0\n",
      "statex: 0.0\n",
      "statey: 0.0\n",
      "time t 0.1\n",
      "statex: 0.0\n",
      "statey: 0.0\n",
      "time t 0.2\n",
      "statex: 0.0\n",
      "statey: 0.1\n",
      "time t 0.30000000000000004\n",
      "statex: 0.0\n",
      "statey: 0.2\n",
      "time t 0.4\n",
      "statex: 0.0\n",
      "statey: 0.30000000000000004\n",
      "time t 0.5\n",
      "statex: 0.0\n",
      "statey: 0.4\n",
      "time t 0.6000000000000001\n",
      "statex: 0.0\n",
      "statey: 0.5\n",
      "time t 0.7000000000000001\n",
      "statex: 0.0\n",
      "statey: 0.5\n",
      "time t 0.8\n",
      "statex: 0.0\n",
      "statey: 0.5\n",
      "time t 0.9\n",
      "statex: 0.0\n",
      "statey: 0.5\n",
      "time t 1.0\n",
      "statex: 0.0\n",
      "statey: 0.5\n",
      "time t 1.1\n",
      "statex: 0.0\n",
      "statey: 0.5\n",
      "time t 1.2000000000000002\n",
      "statex: 0.0\n",
      "statey: 0.5\n",
      "time t 1.3\n",
      "statex: 0.0\n",
      "statey: 0.5\n",
      "time t 1.4000000000000001\n",
      "statex: 0.0\n",
      "statey: 0.5\n",
      "time t 1.5\n",
      "statex: 0.0\n",
      "statey: 0.5\n",
      "time t 1.6\n",
      "statex: 0.0\n",
      "statey: 0.5\n",
      "time t 1.7000000000000002\n",
      "statex: 0.0\n",
      "statey: 0.5\n",
      "time t 1.8\n",
      "statex: 0.0\n",
      "statey: 0.5\n",
      "time t 1.9000000000000001\n",
      "statex: 0.0\n",
      "statey: 0.5\n",
      "time t 2.0\n",
      "statex: 0.0\n",
      "statey: 0.5\n",
      "time t 2.1\n",
      "statex: 0.0\n",
      "statey: 0.5\n",
      "time t 2.2\n",
      "statex: 0.0\n",
      "statey: 0.5\n",
      "time t 2.3000000000000003\n",
      "statex: 0.0\n",
      "statey: 0.5\n",
      "time t 2.4000000000000004\n",
      "statex: 0.0\n",
      "statey: 0.5\n",
      "time t 2.5\n",
      "statex: 0.0\n",
      "statey: 0.5\n",
      "time t 2.6\n",
      "statex: 0.0\n",
      "statey: 0.5\n",
      "time t 2.7\n",
      "statex: 0.0\n",
      "statey: 0.5\n",
      "time t 2.8000000000000003\n",
      "statex: 0.0\n",
      "statey: 0.5\n",
      "time t 2.9000000000000004\n",
      "statex: 0.0\n",
      "statey: 0.5\n",
      "time t 3.0\n",
      "statex: 0.0\n",
      "statey: 0.5\n",
      "time t 3.1\n",
      "statex: 0.0\n",
      "statey: 0.5\n",
      "time t 3.2\n",
      "statex: 0.0\n",
      "statey: 0.5\n",
      "time t 3.3000000000000003\n",
      "statex: 0.0\n",
      "statey: 0.5\n",
      "time t 3.4000000000000004\n",
      "statex: 0.0\n",
      "statey: 0.5\n",
      "time t 3.5\n",
      "statex: 0.0\n",
      "statey: 0.5\n",
      "time t 3.6\n",
      "statex: 0.0\n",
      "statey: 0.5\n",
      "time t 3.7\n",
      "statex: 0.0\n",
      "statey: 0.5\n",
      "time t 3.8000000000000003\n",
      "statex: 0.0\n",
      "statey: 0.5\n",
      "time t 3.9000000000000004\n",
      "statex: 0.0\n",
      "statey: 0.5\n",
      "time t 4.0\n",
      "statex: 0.0\n",
      "statey: 0.5\n",
      "time t 4.1000000000000005\n",
      "statex: 0.0\n",
      "statey: 0.5\n",
      "time t 4.2\n",
      "statex: 0.0\n",
      "statey: 0.5\n",
      "time t 4.3\n",
      "statex: 0.0\n",
      "statey: 0.5\n",
      "time t 4.4\n",
      "statex: 0.0\n",
      "statey: 0.5\n",
      "time t 4.5\n",
      "statex: 0.0\n",
      "statey: 0.5\n",
      "time t 4.6000000000000005\n",
      "statex: 0.0\n",
      "statey: 0.5\n",
      "time t 4.7\n",
      "statex: 0.0\n",
      "statey: 0.5\n",
      "time t 4.800000000000001\n",
      "statex: 0.0\n",
      "statey: 0.5\n",
      "time t 4.9\n",
      "statex: 0.0\n",
      "statey: 0.5\n",
      "time t 5.0\n",
      "statex: 0.0\n",
      "statey: 0.5\n",
      "time t 5.1000000000000005\n",
      "statex: 0.0\n",
      "statey: 0.5\n",
      "time t 5.2\n",
      "statex: 0.0\n",
      "statey: 0.5\n",
      "time t 5.300000000000001\n",
      "statex: 0.0\n",
      "statey: 0.5\n",
      "time t 5.4\n",
      "statex: 0.0\n",
      "statey: 0.5\n",
      "time t 5.5\n",
      "statex: 0.0\n",
      "statey: 0.5\n",
      "time t 5.6000000000000005\n",
      "statex: 0.0\n",
      "statey: 0.5\n",
      "time t 5.7\n",
      "statex: 0.0\n",
      "statey: 0.5\n",
      "time t 5.800000000000001\n",
      "statex: 0.0\n",
      "statey: 0.5\n",
      "time t 5.9\n",
      "statex: 0.0\n",
      "statey: 0.5\n",
      "time t 6.0\n",
      "statex: 0.0\n",
      "statey: 0.5\n",
      "time t 6.1000000000000005\n",
      "statex: 0.0\n",
      "statey: 0.5\n",
      "time t 6.2\n",
      "statex: 0.0\n",
      "statey: 0.5\n",
      "time t 6.300000000000001\n",
      "statex: 0.0\n",
      "statey: 0.5\n",
      "time t 6.4\n",
      "statex: 0.0\n",
      "statey: 0.5\n",
      "time t 6.5\n",
      "statex: 0.0\n",
      "statey: 0.5\n",
      "time t 6.6000000000000005\n",
      "statex: 0.0\n",
      "statey: 0.5\n",
      "time t 6.7\n",
      "statex: 0.0\n",
      "statey: 0.5\n",
      "time t 6.800000000000001\n",
      "statex: 0.0\n",
      "statey: 0.5\n",
      "time t 6.9\n",
      "statex: 0.0\n",
      "statey: 0.5\n",
      "time t 7.0\n",
      "statex: 0.0\n",
      "statey: 0.5\n",
      "time t 7.1000000000000005\n",
      "statex: 0.0\n",
      "statey: 0.5\n",
      "time t 7.2\n",
      "statex: 0.0\n",
      "statey: 0.5\n",
      "time t 7.300000000000001\n",
      "statex: 0.0\n",
      "statey: 0.5\n",
      "time t 7.4\n",
      "statex: 0.0\n",
      "statey: 0.5\n",
      "time t 7.5\n",
      "statex: 0.0\n",
      "statey: 0.5\n",
      "time t 7.6000000000000005\n",
      "statex: 0.0\n",
      "statey: 0.5\n",
      "time t 7.7\n",
      "statex: 0.0\n",
      "statey: 0.5\n",
      "time t 7.800000000000001\n",
      "statex: 0.0\n",
      "statey: 0.5\n",
      "time t 7.9\n",
      "statex: 0.0\n",
      "statey: 0.5\n",
      "time t 8.0\n",
      "statex: 0.0\n",
      "statey: 0.5\n",
      "time t 8.1\n",
      "statex: 0.0\n",
      "statey: 0.5\n",
      "time t 8.200000000000001\n",
      "statex: 0.0\n",
      "statey: 0.5\n",
      "time t 8.3\n",
      "statex: 0.0\n",
      "statey: 0.5\n",
      "time t 8.4\n",
      "statex: 0.0\n",
      "statey: 0.5\n",
      "time t 8.5\n",
      "statex: 0.0\n",
      "statey: 0.5\n",
      "time t 8.6\n",
      "statex: 0.0\n",
      "statey: 0.5\n",
      "time t 8.700000000000001\n",
      "statex: 0.0\n",
      "statey: 0.5\n",
      "time t 8.8\n",
      "statex: 0.0\n",
      "statey: 0.5\n",
      "time t 8.9\n",
      "statex: 0.0\n",
      "statey: 0.5\n",
      "time t 9.0\n",
      "statex: 0.0\n",
      "statey: 0.5\n",
      "time t 9.1\n",
      "statex: 0.0\n",
      "statey: 0.5\n",
      "time t 9.200000000000001\n",
      "statex: 0.0\n",
      "statey: 0.5\n",
      "time t 9.3\n",
      "statex: 0.0\n",
      "statey: 0.5\n",
      "time t 9.4\n",
      "statex: 0.0\n",
      "statey: 0.5\n",
      "time t 9.5\n",
      "statex: 0.0\n",
      "statey: 0.5\n",
      "time t 9.600000000000001\n",
      "statex: 0.0\n",
      "statey: 0.5\n",
      "time t 9.700000000000001\n",
      "statex: 0.0\n",
      "statey: 0.5\n",
      "time t 9.8\n",
      "statex: 0.0\n",
      "statey: 0.5\n",
      "time t 9.9\n",
      "statex: 0.0\n",
      "statey: 0.5\n"
     ]
    },
    {
     "ename": "NameError",
     "evalue": "name 'false' is not defined",
     "output_type": "error",
     "traceback": [
      "\u001b[0;31m---------------------------------------------------------------------------\u001b[0m",
      "\u001b[0;31mNameError\u001b[0m                                 Traceback (most recent call last)",
      "\u001b[0;32m<ipython-input-17-ce9115027d8b>\u001b[0m in \u001b[0;36m<module>\u001b[0;34m\u001b[0m\n\u001b[1;32m     43\u001b[0m \u001b[0;34m\u001b[0m\u001b[0m\n\u001b[1;32m     44\u001b[0m         \u001b[0;31m#rospy.loginfo(msg.pose.pose.position.x)\u001b[0m\u001b[0;34m\u001b[0m\u001b[0;34m\u001b[0m\u001b[0;34m\u001b[0m\u001b[0m\n\u001b[0;32m---> 45\u001b[0;31m     \u001b[0mrun\u001b[0m \u001b[0;34m=\u001b[0m \u001b[0mfalse\u001b[0m\u001b[0;34m\u001b[0m\u001b[0;34m\u001b[0m\u001b[0m\n\u001b[0m\u001b[1;32m     46\u001b[0m \u001b[0;34m\u001b[0m\u001b[0m\n\u001b[1;32m     47\u001b[0m \u001b[0mmsg\u001b[0m \u001b[0;34m=\u001b[0m \u001b[0mTwist\u001b[0m\u001b[0;34m(\u001b[0m\u001b[0;34m)\u001b[0m\u001b[0;34m\u001b[0m\u001b[0;34m\u001b[0m\u001b[0m\n",
      "\u001b[0;31mNameError\u001b[0m: name 'false' is not defined"
     ]
    }
   ],
   "source": [
    "dt = 0.1\n",
    "sim_time = 10\n",
    "time = []\n",
    "ux, uy = [], []\n",
    "x, y = [], []\n",
    "statex, statey = [], []\n",
    "t = 0.0\n",
    "\n",
    "rospy.sleep(0.1)\n",
    "run = True\n",
    "\n",
    "if run: \n",
    "    \n",
    "    #for t in np.linspace(0.0, sim_time, num=int(sim_time/dt)):\n",
    "    for t in np.linspace(0.0, sim_time, num=int(sim_time/dt),endpoint=False):\n",
    "\n",
    "        #print (\"time t\", t)\n",
    "        # Time\n",
    "        time.append(t)\n",
    "        # Control\n",
    "        msg = rospy.wait_for_message('/odom0' + team, Odometry, timeout=None)\n",
    "        statex = msg.pose.pose.position.x\n",
    "        statey = msg.pose.pose.position.y\n",
    "        print(\"statex:\",statex)\n",
    "        print(\"statey:\",statey)\n",
    "        # Control\n",
    "        if t<0.5:\n",
    "         u_control = [0.0, 1.0]\n",
    "        else:\n",
    "         u_control = [0.0, 0.0]\n",
    "\n",
    "\n",
    "        # Send actuation commands\n",
    "        msg = Twist()\n",
    "        msg.linear.x = u_control[0]\n",
    "        msg.linear.y = u_control[1]\n",
    "        pub0.publish(msg)\n",
    "        #rospy.loginfo(msg_act)\n",
    "        ux.append(u_control[0])\n",
    "        uy.append(u_control[1])\n",
    "        x.append(statex)\n",
    "        y.append(statey)\n",
    "\n",
    "        #rospy.loginfo(msg.pose.pose.position.x)\n",
    "    run = false\n",
    "    \n",
    "msg = Twist()\n",
    "msg.linear.x = 0.0\n",
    "msg.linear.y = 0.0\n",
    "pub0.publish(msg)\n",
    "#sub.unregister()"
   ]
  },
  {
   "cell_type": "code",
   "execution_count": 18,
   "metadata": {
    "colab": {
     "base_uri": "https://localhost:8080/",
     "height": 563
    },
    "id": "AGdy_aaEtn0L",
    "outputId": "845ab0a2-83ec-401f-e12a-d80fc97f108b"
   },
   "outputs": [
    {
     "data": {
      "image/png": "[encoded data removed]",
      "text/plain": [
       "<Figure size 432x288 with 1 Axes>"
      ]
     },
     "metadata": {
      "needs_background": "light"
     },
     "output_type": "display_data"
    },
    {
     "data": {
      "image/png": "[encoded data removed]",
      "text/plain": [
       "<Figure size 432x288 with 1 Axes>"
      ]
     },
     "metadata": {
      "needs_background": "light"
     },
     "output_type": "display_data"
    }
   ],
   "source": [
    "# Plot commands\n",
    "\n",
    "%matplotlib inline\n",
    "import matplotlib.pyplot as plt\n",
    "\n",
    "plt.figure()\n",
    "plt.plot(time, ux, label='input $u_x(t)$', color='b')\n",
    "plt.plot(time, uy, label='input $u_y(t)$', color='g')\n",
    "plt.plot(time, y, label='output $x(t)$', color='k')\n",
    "plt.plot(time, x, label='output $y(t)$', color='r')\n",
    "\n",
    "#plt.xlabel('time $t$ [s]');\n",
    "plt.legend()\n",
    "#plt.grid()\n",
    "plt.title('Time evolution of the input and output signals');\n",
    "\n",
    "plt.figure()\n",
    "plt.plot(x, y, label='$x(t), y(t)$', color='k')\n",
    "plt.xlabel('$y$');\n",
    "plt.ylabel('$x$');\n",
    "plt.title('2D trajectory');"
   ]
  },
  {
   "cell_type": "markdown",
   "metadata": {},
   "source": [
    "### Correr a célula abaixo para dar reset à arena!"
   ]
  },
  {
   "cell_type": "code",
   "execution_count": 36,
   "metadata": {},
   "outputs": [],
   "source": [
    "try:\n",
    "    reset_arena()\n",
    "except rospy.ServiceException as e:\n",
    "    print(\"Service call failed: %s\" + str(e))            "
   ]
  },
  {
   "cell_type": "markdown",
   "metadata": {
    "id": "MyMJRF1kVMBG"
   },
   "source": [
    "**Activity 2.** Go above and try with different initial conditions of the state $x(0)$ and different input signals $u(t)$."
   ]
  },
  {
   "cell_type": "markdown",
   "metadata": {
    "id": "11ZrRUzLtn0M"
   },
   "source": [
    "\n",
    "### Tracking a desired reference signal\n"
   ]
  },
  {
   "cell_type": "markdown",
   "metadata": {
    "id": "8ywfCmeRtn0M"
   },
   "source": [
    "To track in closed-loop a desired reference signal $x_d(t)$, a simple (but very efficient) feedback controller is this one: \n",
    "\n",
    "$$\n",
    "u = - k \\tilde x + \\dot x_d\n",
    "$$\n",
    "\n",
    "where $k$ is a positive gain, and $\\tilde x(t) = x(t)-x_d(t)$ is the tracking error.\n"
   ]
  },
  {
   "cell_type": "markdown",
   "metadata": {
    "id": "ignctF-Vtn0M"
   },
   "source": [
    "Note that in closed-loop the tracking error satisfies:\n",
    "\n",
    "$$\n",
    "\\dot {\\tilde x} = - k \\tilde x \\,, \\quad k>0\n",
    "$$\n",
    "\n"
   ]
  },
  {
   "cell_type": "markdown",
   "metadata": {
    "id": "C3N_AnqVtn0M"
   },
   "source": [
    "Let's now check this in simulation for a desired sinusoidal signal $x_d(t) = sin (t)$"
   ]
  },
  {
   "cell_type": "code",
   "execution_count": 34,
   "metadata": {
    "id": "4Td0p1bwtn0M"
   },
   "outputs": [],
   "source": [
    "# Dynamics: States=[x] Control=[u] where x_dot=u\n",
    "initial_state = [1.0]\n",
    "initial_control = [0.0]\n",
    "#robot = Integrator(initial_state, initial_control)\n",
    "\n",
    "dt = 0.1\n",
    "sim_time = 10\n",
    "time = []\n",
    "u = []\n",
    "x = []\n",
    "xdv = []\n",
    "\n",
    "k=2   # Gain of the controller\n",
    "run = True\n",
    "\n",
    "if run: \n",
    "    for t in np.linspace(0.0, sim_time, num=int(sim_time/dt)):\n",
    "\n",
    "        # Time\n",
    "        time.append(t)\n",
    "        xd = math.sin(t)\n",
    "        dot_xd=math.cos(t)\n",
    "\n",
    "        # Control\n",
    "        msg = rospy.wait_for_message('/odom0' + team, Odometry, timeout=None)\n",
    "        state = msg.pose.pose.position.x\n",
    "        u_control = (-k*(state-xd)+dot_xd)\n",
    "\n",
    "\n",
    "        # Send actuation commands\n",
    "        msg_act = Twist()\n",
    "        msg_act.linear.x = u_control\n",
    "        pub0.publish(msg_act)\n",
    "        u.append(u_control)\n",
    "        x.append(state)\n",
    "        xdv.append(xd)\n",
    "\n",
    "\n",
    "        #rospy.loginfo(msg.pose.pose.position.x)\n",
    "    run = False\n",
    "\n",
    "msg = Twist()\n",
    "msg.linear.x = 0.0\n",
    "msg.linear.y = 0.0\n",
    "pub0.publish(msg)"
   ]
  },
  {
   "cell_type": "code",
   "execution_count": 35,
   "metadata": {
    "colab": {
     "base_uri": "https://localhost:8080/",
     "height": 299
    },
    "id": "P7uMcM2Btn0N",
    "outputId": "2e20e59d-17ad-4a5d-a841-392de6f6d97c"
   },
   "outputs": [
    {
     "data": {
      "image/png": "[encoded data removed]",
      "text/plain": [
       "<Figure size 432x288 with 1 Axes>"
      ]
     },
     "metadata": {
      "needs_background": "light"
     },
     "output_type": "display_data"
    }
   ],
   "source": [
    "%matplotlib inline\n",
    "import matplotlib.pyplot as plt\n",
    "\n",
    "# Plot commands\n",
    "plt.figure()\n",
    "plt.plot(time, u, label='input $u(t)$', color='b')\n",
    "plt.plot(time, x, label='output $x(t)$', color='k')\n",
    "plt.plot(time, xdv, label='reference $x_d(t)$', color='g')\n",
    "\n",
    "plt.xlabel('time $t$ [s]');\n",
    "plt.legend()\n",
    "#plt.grid()\n",
    "plt.title('Time evolution of the input, output, and reference signals');\n",
    "\n",
    "\n"
   ]
  },
  {
   "cell_type": "markdown",
   "metadata": {},
   "source": [
    "### Correr a célula abaixo para dar reset à arena!"
   ]
  },
  {
   "cell_type": "code",
   "execution_count": 36,
   "metadata": {},
   "outputs": [],
   "source": [
    "try:\n",
    "    reset_arena()\n",
    "except rospy.ServiceException as e:\n",
    "    print(\"Service call failed: %s\" + str(e))            "
   ]
  },
  {
   "cell_type": "markdown",
   "metadata": {
    "id": "Snw1SHY_WPnV"
   },
   "source": [
    "**Activity 3.** Go above and try:\n",
    "\n",
    "1.   Other (positive) values for the gain $k$\n",
    "2.   Different initial conditions $x(0)$\n",
    "3. Different reference signals $x_d(t)$\n"
   ]
  },
  {
   "cell_type": "markdown",
   "metadata": {
    "id": "BdtcK3Cbtn0N"
   },
   "source": [
    "**Tracking in 2D:** As before, consider now the agent in the plane $(x,y)$ with single integrator dynamics:\n",
    "\n",
    "$$ \n",
    "\\begin{align}\n",
    "\\dot \\xi = u\n",
    "\\end{align}\n",
    "$$\n",
    "\n",
    "where \n",
    "$$\n",
    "\\xi = \n",
    "\\begin{bmatrix} \n",
    "x \\\\\n",
    "y\n",
    "\\end{bmatrix} \\,, \\quad\n",
    "u = \n",
    "\\begin{bmatrix} \n",
    "u_x \\\\\n",
    "u_y \n",
    "\\end{bmatrix}\n",
    "$$\n",
    "\n",
    "are the 2D state and 2D control, respectively.\n",
    "\n",
    "Similarly, the feedback controller is now given by\n",
    "\n",
    "$$\n",
    "u = - K \\tilde \\xi + \\dot \\xi_d\n",
    "$$\n",
    "\n",
    "where $K$ is a $2\\times 2$ positive-definite matrix gain, and\n",
    "\n",
    "$$\n",
    "\\tilde \\xi(t) = \n",
    "\\xi - \\xi_d \\,, \\quad\n",
    "\\xi_d(t) = \n",
    "\\begin{bmatrix}\n",
    "x_d(t) \\\\\n",
    "y_d(t)\n",
    "\\end{bmatrix}\n",
    "$$ \n",
    "\n",
    "is the 2D tracking error and desired reference signal, respectively.\n",
    "\n",
    "Note that in closed-loop the tracking error satisfies:\n",
    "\n",
    "$$\n",
    "\\dot {\\tilde \\xi} + K \\tilde \\xi = 0 \\,, \\quad K > 0\n",
    "$$\n"
   ]
  },
  {
   "cell_type": "markdown",
   "metadata": {
    "id": "J3BJKqhDtn0N"
   },
   "source": [
    "Let's now check this in simulation for tracking a plane circle centered at the origin with radius 1, that is, \n",
    "\n",
    "$$\n",
    "\\xi_d(t) = \n",
    "\\begin{bmatrix}\n",
    "\\sin(t) \\\\\n",
    "\\cos(t)\n",
    "\\end{bmatrix}\n",
    "$$"
   ]
  },
  {
   "cell_type": "code",
   "execution_count": 20,
   "metadata": {
    "id": "sfb3xR96tn0N"
   },
   "outputs": [],
   "source": [
    "# Dynamics: States=[x] Control=[u] where x_dot=u\n",
    "\n",
    "dt = 0.1\n",
    "sim_time = 10\n",
    "time = []\n",
    "ux, uy = [], []\n",
    "x, y = [], []\n",
    "xdv, ydv = [], []\n",
    "\n",
    "# Gain matrix\n",
    "kx, ky = 10, 1\n",
    "K = np.diag([kx,ky])\n",
    "\n",
    "run = True\n",
    "\n",
    "if run:\n",
    "    \n",
    "    for t in np.linspace(0.0, sim_time, num=int(sim_time/dt)):\n",
    "\n",
    "        # Time\n",
    "        time.append(t)\n",
    "\n",
    "        # Reference signals\n",
    "        xid = np.array([ math.sin(t), math.cos(t)])\n",
    "        dot_xid = np.array([ math.cos(t), -math.sin(t) ])\n",
    "\n",
    "        # Control\n",
    "        msg = rospy.wait_for_message('/odom0' + team, Odometry, timeout=None)\n",
    "\n",
    "        state = [msg.pose.pose.position.x, msg.pose.pose.position.y]\n",
    "\n",
    "        u_control = (- K @ ( state - xid ) + dot_xid)\n",
    "\n",
    "        # Send actuation commands\n",
    "        msg_act = Twist()\n",
    "        msg_act.linear.x = u_control[0]\n",
    "        msg_act.linear.y = u_control[1]\n",
    "        pub0.publish(msg_act)\n",
    "\n",
    "        #rospy.loginfo(msg_act.linear)\n",
    "\n",
    "        ux.append(u_control[0])\n",
    "        uy.append(u_control[1])\n",
    "\n",
    "        x.append(state[0])\n",
    "        y.append(state[1])\n",
    "\n",
    "        xdv.append(xid[0])\n",
    "        ydv.append(xid[1])\n",
    "    run = False\n",
    "\n",
    "msg = Twist()\n",
    "msg.linear.x = 0.0\n",
    "msg.linear.y = 0.0\n",
    "pub0.publish(msg)"
   ]
  },
  {
   "cell_type": "code",
   "execution_count": 21,
   "metadata": {
    "colab": {
     "base_uri": "https://localhost:8080/",
     "height": 563
    },
    "id": "bTDeESzutn0O",
    "outputId": "80162f61-e47f-47e5-8033-0accdc5592bd"
   },
   "outputs": [
    {
     "data": {
      "image/png": "[encoded data removed]",
      "text/plain": [
       "<Figure size 432x288 with 1 Axes>"
      ]
     },
     "metadata": {
      "needs_background": "light"
     },
     "output_type": "display_data"
    },
    {
     "data": {
      "image/png": "[encoded data removed]",
      "text/plain": [
       "<Figure size 432x288 with 1 Axes>"
      ]
     },
     "metadata": {
      "needs_background": "light"
     },
     "output_type": "display_data"
    }
   ],
   "source": [
    "%matplotlib inline\n",
    "import matplotlib.pyplot as plt\n",
    "\n",
    "plt.figure()\n",
    "plt.plot(time, x, label='$x(t)$', color='k')\n",
    "plt.plot(time, y, label='$y(t)$', color='g')\n",
    "plt.plot(time, xdv, label='$x_d(t)$', color='k', linestyle='dashed')\n",
    "plt.plot(time, ydv, label='$y_d(t)$', color='g', linestyle='dashed')\n",
    "\n",
    "#plt.xlabel('time $t$ [s]');\n",
    "plt.legend()\n",
    "#plt.grid()\n",
    "plt.title('Time evolution of the state and reference signals');\n",
    "\n",
    "plt.figure()\n",
    "plt.plot(x, y, label='$x(t), y(t)$', color='k')\n",
    "plt.xlabel('$x$');\n",
    "plt.ylabel('$y$');\n",
    "plt.title('2D trajectory');"
   ]
  },
  {
   "cell_type": "markdown",
   "metadata": {},
   "source": [
    "### Correr a célula abaixo para dar reset à arena!"
   ]
  },
  {
   "cell_type": "code",
   "execution_count": 22,
   "metadata": {},
   "outputs": [],
   "source": [
    "try:\n",
    "    reset_arena()\n",
    "except rospy.ServiceException as e:\n",
    "    print(\"Service call failed: %s\" + str(e))            "
   ]
  },
  {
   "cell_type": "markdown",
   "metadata": {
    "id": "P-OFNqYVfF-R"
   },
   "source": [
    "**Activity 4.** Go above and try:\n",
    "\n",
    "1. Other values for the gain $K$\n",
    "2. Different initial conditions $\\xi(0)$\n",
    "3. Different reference signals $\\xi_d(t)$"
   ]
  },
  {
   "cell_type": "markdown",
   "metadata": {
    "id": "xSdnbV7ftn0O"
   },
   "source": [
    "\n",
    "### What happens when there is noise in the sensor?\n"
   ]
  },
  {
   "cell_type": "markdown",
   "metadata": {
    "id": "OOngZWOWtn0O"
   },
   "source": [
    "Suppose now that we cannot get exactly the state $\\xi(t)$ , but just an estimate $\\hat \\xi(t)$ that can be viewed as a sum of two terms of the form\n",
    "\n",
    "$$\n",
    "\\hat \\xi(t) = \\xi(t) + w(t)\n",
    "$$\n",
    "\n",
    "where $\\xi(t)$ is the true state, and $w(t)$ is an unknown disturbance (e.g., noise) signal.\n",
    "\n",
    "Assume that the noise signal has a Gaussian distribution, that is,  $w(t) = \\mathcal{N}(b, \\sigma)$ with a mean (bias) $b$ and standard deviation $\\sigma$. "
   ]
  },
  {
   "cell_type": "markdown",
   "metadata": {
    "id": "ausqnckytn0O"
   },
   "source": [
    "**Go to a desired point (open-loop):** Assume we want to steer the agent towards a fixed goal point $\\xi_d = (x_d, y_d)$.\n",
    "\n",
    "First, let's consider the naive open-loop case. One option is to move with a constant speed along the direction of the goal point while it is not close to the goal, that is, set the control signal as \n",
    "\n",
    "$$\n",
    "u =\n",
    "\\begin{cases}\n",
    "v \\frac{\\xi_d- \\hat \\xi(0)}{||\\xi_d- \\hat \\xi(0)||} \\,,& \\quad ||\\xi_d- \\hat \\xi(t)|| \\ge \\epsilon \\\\\n",
    "0 \\,,& \\quad ||\\xi_d- \\hat \\xi(t)|| < \\epsilon\n",
    "\\end{cases}\n",
    "$$\n",
    "\n",
    "where $v$ is some constant speed.\n"
   ]
  },
  {
   "cell_type": "code",
   "execution_count": 23,
   "metadata": {
    "id": "NiFSp7wvtn0O"
   },
   "outputs": [],
   "source": [
    "msg = rospy.wait_for_message('/odom0' + team, Odometry, timeout=None)\n",
    "   \n",
    "# Dynamics: States=[x] Control=[u] where x_dot=u\n",
    "initial_state = [msg.pose.pose.position.x, msg.pose.pose.position.y]\n",
    "initial_control = [0.0, 0.0]\n",
    "\n",
    "dt = 0.1\n",
    "sim_time = 10\n",
    "time = []\n",
    "ux, uy = [], []\n",
    "x, y = [], []\n",
    "est_x, est_y = [], []\n",
    "xdv, ydv = [], []\n",
    "\n",
    "epsilon = 0.5\n",
    "vel = 0.5\n",
    "run = True\n",
    "\n",
    "if run:\n",
    "    for t in np.linspace(0.0, sim_time, num=int(sim_time/dt)):\n",
    "\n",
    "        # Time\n",
    "        time.append(t)\n",
    "        xid = np.array([ 2.0, -2.0 ])\n",
    "        dot_xid = np.array([ 0.0, 0.0 ])\n",
    "\n",
    "        # noise\n",
    "        noise_bias = 0.2\n",
    "        noise_std_deviation = 0.005\n",
    "        noise = np.random.normal(noise_bias,noise_std_deviation,2)\n",
    "\n",
    "        est_initial_state = initial_state + noise\n",
    "        msg = rospy.wait_for_message('/odom0' + team, Odometry, timeout=None)\n",
    "        state = [msg.pose.pose.position.x,msg.pose.pose.position.y]\n",
    "        est_state = state + noise\n",
    "\n",
    "        # control\n",
    "        distance = np.linalg.norm(est_state - xid)\n",
    "        if distance >= epsilon:\n",
    "            u_control = - vel*(est_initial_state - xid )/np.linalg.norm(est_initial_state - xid)\n",
    "        else:\n",
    "            u_control = np.zeros(2)\n",
    "\n",
    "        # Send actuation commands\n",
    "        msg_act = Twist()\n",
    "        msg_act.linear.x = u_control[0]\n",
    "        msg_act.linear.y = u_control[1]\n",
    "        pub0.publish(msg_act)\n",
    "\n",
    "        ux.append(u_control[0])\n",
    "        uy.append(u_control[1])\n",
    "\n",
    "        x.append(state[0])\n",
    "        y.append(state[1])\n",
    "\n",
    "        est_x.append(est_state[0])\n",
    "        est_y.append(est_state[1])\n",
    "\n",
    "        xdv.append(xid[0])\n",
    "        ydv.append(xid[1])\n",
    "    run = False\n",
    "    \n",
    "msg = Twist()\n",
    "msg.linear.x = 0.0\n",
    "msg.linear.y = 0.0\n",
    "pub0.publish(msg)"
   ]
  },
  {
   "cell_type": "code",
   "execution_count": 24,
   "metadata": {
    "colab": {
     "base_uri": "https://localhost:8080/",
     "height": 559
    },
    "id": "SPfvergptn0P",
    "outputId": "ec409143-db2a-4ef1-a1c5-9b017a221f36"
   },
   "outputs": [
    {
     "data": {
      "image/png": "[encoded data removed]",
      "text/plain": [
       "<Figure size 432x288 with 1 Axes>"
      ]
     },
     "metadata": {
      "needs_background": "light"
     },
     "output_type": "display_data"
    },
    {
     "data": {
      "image/png": "[encoded data removed]",
      "text/plain": [
       "<Figure size 432x288 with 1 Axes>"
      ]
     },
     "metadata": {
      "needs_background": "light"
     },
     "output_type": "display_data"
    }
   ],
   "source": [
    "%matplotlib inline\n",
    "plt.figure()\n",
    "plt.plot(time, x, label='$x(t)$', color='k')\n",
    "plt.plot(time, y, label='$y(t)$', color='g')\n",
    "plt.plot(time, est_x, label='$\\hat x(t)$', color='r')\n",
    "plt.plot(time, est_y, label='$\\hat y(t)$', color='b')\n",
    "plt.plot(time, xdv, label='$x_d$', color='k', linestyle='dashed')\n",
    "plt.plot(time, ydv, label='$y_d$', color='g', linestyle='dashed')\n",
    "\n",
    "#plt.xlabel('time $t$ [s]');\n",
    "plt.legend()\n",
    "#plt.grid()\n",
    "plt.title('Time evolution of the state and the estimated state');\n",
    "\n",
    "plt.figure()\n",
    "plt.plot(x, y, label='$x(t), y(t)$', color='k')\n",
    "plt.plot(est_x, est_y, label='$x(t), y(t)$', color='r')\n",
    "plt.xlabel('$x$');\n",
    "plt.ylabel('$y$');\n",
    "plt.grid()\n",
    "plt.xlim(-2.5,2.5)\n",
    "plt.ylim(-2.5,2.5)\n",
    "plt.title('True and estimated trajectory');"
   ]
  },
  {
   "cell_type": "markdown",
   "metadata": {},
   "source": [
    "### Correr a célula abaixo para dar reset à arena!"
   ]
  },
  {
   "cell_type": "code",
   "execution_count": 27,
   "metadata": {},
   "outputs": [],
   "source": [
    "try:\n",
    "    reset_arena()\n",
    "except rospy.ServiceException as e:\n",
    "    print(\"Service call failed: %s\" + str(e))            "
   ]
  },
  {
   "cell_type": "markdown",
   "metadata": {
    "id": "QeJ7IrRCKi0p"
   },
   "source": [
    "**Activity 5.** Go above and try:\n",
    "\n",
    "1. Other position goals $\\xi_d$\n",
    "2. Different initial conditions $\\xi(0)$\n",
    "3. Different bias $b$, standard deviation $\\sigma$ for the noise, and different threshold $\\epsilon$"
   ]
  },
  {
   "cell_type": "markdown",
   "metadata": {
    "id": "jWfyAQ-ytn0P"
   },
   "source": [
    "**Go to a desired point (closed-loop):** \n",
    "Now, let's check how this noise affects the performance of the closed-loop system, with our tracking controller given by\n",
    "\n",
    "$$\n",
    "u = - K \\tilde \\xi + \\dot{\\xi}_d\n",
    "$$\n",
    "\n",
    "where now $\\dot{\\xi}_d =0$"
   ]
  },
  {
   "cell_type": "code",
   "execution_count": 28,
   "metadata": {
    "id": "6clrMDzjtn0P"
   },
   "outputs": [],
   "source": [
    "msg = rospy.wait_for_message('/odom0' + team, Odometry, timeout=None)\n",
    "   \n",
    "# Dynamics: States=[x] Control=[u] where x_dot=u\n",
    "initial_state = [msg.pose.pose.position.x, msg.pose.pose.position.y]\n",
    "initial_control = [0.0, 0.0]\n",
    "\n",
    "dt = 0.1\n",
    "sim_time = 10\n",
    "time = []\n",
    "ux, uy = [], []\n",
    "x, y = [], []\n",
    "est_x, est_y = [], []\n",
    "xdv, ydv = [], []\n",
    "\n",
    "#Gain \n",
    "kx, ky = 1, 1\n",
    "K = np.diag([kx,ky])\n",
    "\n",
    "run = True\n",
    "\n",
    "if run:\n",
    "    \n",
    "    for t in np.linspace(0.0, sim_time, num=int(sim_time/dt)):\n",
    "\n",
    "        # Time\n",
    "        time.append(t)\n",
    "        xid = np.array([ 2.0, -2.0 ])\n",
    "        dot_xid = np.array([ 0.0, 0.0 ])\n",
    "\n",
    "        # noise\n",
    "        noise_bias = 0.2\n",
    "        noise_std_deviation = 0.005\n",
    "        noise = np.random.normal(noise_bias,noise_std_deviation,2)\n",
    "\n",
    "        #control\n",
    "        est_initial_state = initial_state + noise\n",
    "\n",
    "        msg = rospy.wait_for_message('/odom0' + team, Odometry, timeout=None)\n",
    "        state = [msg.pose.pose.position.x, msg.pose.pose.position.y]\n",
    "        est_state = state + noise\n",
    "\n",
    "        u_control = - K @ ( est_state - xid ) + dot_xid\n",
    "\n",
    "        # Send actuation commands\n",
    "        msg_act = Twist()\n",
    "        msg_act.linear.x = u_control[0]\n",
    "        msg_act.linear.y = u_control[1]\n",
    "        pub0.publish(msg_act)\n",
    "\n",
    "        ux.append(u_control[0])\n",
    "        uy.append(u_control[1])\n",
    "\n",
    "        x.append(state[0])\n",
    "        y.append(state[1])\n",
    "\n",
    "        est_x.append(est_state[0])\n",
    "        est_y.append(est_state[1])\n",
    "\n",
    "        xdv.append(xid[0])\n",
    "        ydv.append(xid[1])\n",
    "    \n",
    "    run = False\n",
    "\n",
    "msg = Twist()\n",
    "msg.linear.x = 0.0\n",
    "msg.linear.y = 0.0\n",
    "pub0.publish(msg)"
   ]
  },
  {
   "cell_type": "code",
   "execution_count": 29,
   "metadata": {
    "colab": {
     "base_uri": "https://localhost:8080/",
     "height": 563
    },
    "id": "B3k7fO1Ztn0P",
    "outputId": "bb3e7dbf-80ee-402c-b337-d081a4606bf9"
   },
   "outputs": [
    {
     "data": {
      "image/png": "[encoded data removed]",
      "text/plain": [
       "<Figure size 432x288 with 1 Axes>"
      ]
     },
     "metadata": {
      "needs_background": "light"
     },
     "output_type": "display_data"
    },
    {
     "data": {
      "image/png": "[encoded data removed]",
      "text/plain": [
       "<Figure size 432x288 with 1 Axes>"
      ]
     },
     "metadata": {
      "needs_background": "light"
     },
     "output_type": "display_data"
    }
   ],
   "source": [
    "plt.figure()\n",
    "plt.plot(time, x, label='$x(t)$', color='k')\n",
    "plt.plot(time, y, label='$y(t)$', color='g')\n",
    "plt.plot(time, est_x, label='$\\hat x(t)$', color='r')\n",
    "plt.plot(time, est_y, label='$\\hat y(t)$', color='b')\n",
    "plt.plot(time, xdv, label='$x_d$', color='k', linestyle='dashed')\n",
    "plt.plot(time, ydv, label='$y_d$', color='g', linestyle='dashed')\n",
    "\n",
    "#plt.xlabel('time $t$ [s]');\n",
    "plt.legend()\n",
    "#plt.grid()\n",
    "plt.title('Time evolution of the state and the estimated state');\n",
    "\n",
    "plt.figure()\n",
    "plt.plot(x, y, label='$x(t), y(t)$', color='k')\n",
    "plt.plot(est_x, est_y, label='$x(t), y(t)$', color='r')\n",
    "plt.xlabel('output $x$');\n",
    "plt.ylabel('output $y$');\n",
    "plt.grid()\n",
    "plt.xlim(-2.5,2.5)\n",
    "plt.ylim(-2.5,2.5)\n",
    "plt.title('True and estimated trajectory');"
   ]
  },
  {
   "cell_type": "markdown",
   "metadata": {},
   "source": [
    "### Correr a célula abaixo para dar reset à arena!"
   ]
  },
  {
   "cell_type": "code",
   "execution_count": 30,
   "metadata": {},
   "outputs": [],
   "source": [
    "try:\n",
    "    reset_arena()\n",
    "except rospy.ServiceException as e:\n",
    "    print(\"Service call failed: %s\" + str(e))            "
   ]
  },
  {
   "cell_type": "markdown",
   "metadata": {
    "id": "6I0OzT-2NTtH"
   },
   "source": [
    "**Activity 6.** Go above and try:\n",
    "\n",
    "1. Other position goals $\\xi_d$\n",
    "2. Different initial conditions $\\xi(0)$\n",
    "3. Different bias $b$, standard deviation $\\sigma$ for the noise, and different gain $K$"
   ]
  },
  {
   "cell_type": "markdown",
   "metadata": {
    "id": "-9GKDHnNNo9Y"
   },
   "source": [
    "### How to avoid an obstacle?"
   ]
  },
  {
   "cell_type": "markdown",
   "metadata": {
    "id": "a4CFzsagtn0P"
   },
   "source": [
    "Let's now assume that there is a circular shaped obstacle (green) centered at  [1.0, 1.0] with radius $r=0.5\\,m$ between the robot initial position (black) at the origin  [0.0, 0.0]  and the desired goal (blue) at  [1.5, 2.0]."
   ]
  },
  {
   "cell_type": "code",
   "execution_count": 31,
   "metadata": {
    "colab": {
     "base_uri": "https://localhost:8080/",
     "height": 281
    },
    "id": "BYNuteETtn0Q",
    "outputId": "7fee9597-7296-4900-a97f-ca03db77bfc5"
   },
   "outputs": [
    {
     "data": {
      "image/png": "[encoded data removed]",
      "text/plain": [
       "<Figure size 432x288 with 1 Axes>"
      ]
     },
     "metadata": {
      "needs_background": "light"
     },
     "output_type": "display_data"
    }
   ],
   "source": [
    "circle = plt.Circle((1.0, 1.0), 0.5, color='g', label='obstacle')\n",
    "robot = plt.Circle((0.0, 0.0), 0.02, color='k', label='$x(t)$')\n",
    "goal = plt.Circle((1.5, 2.0), 0.02, color='b', label='$x(t)$')\n",
    "\n",
    "fig, ax = plt.subplots()\n",
    "\n",
    "ax.axis('equal')\n",
    "plt.xlim(-1,2.2)\n",
    "plt.ylim(-1,2.2)\n",
    "plt.grid()\n",
    "plt.title('Robot, goal and obstacle');\n",
    "\n",
    "ax.add_patch(circle);\n",
    "ax.add_patch(robot);\n",
    "ax.add_patch(goal);"
   ]
  },
  {
   "cell_type": "markdown",
   "metadata": {},
   "source": [
    "# Nota: No rvizweb, fazer um novo load config com o setup da simulação "
   ]
  },
  {
   "cell_type": "code",
   "execution_count": 33,
   "metadata": {},
   "outputs": [],
   "source": [
    "rospy.wait_for_service('/reset_arena_obs')\n",
    "reset_arena_obs = rospy.ServiceProxy('/reset_arena_obs', ResetArena_obs)"
   ]
  },
  {
   "cell_type": "code",
   "execution_count": 34,
   "metadata": {},
   "outputs": [],
   "source": [
    "pub0_obs = rospy.Publisher('/cmd_vel_sd0_obs' + team, Twist, queue_size=10)"
   ]
  },
  {
   "cell_type": "code",
   "execution_count": 35,
   "metadata": {},
   "outputs": [],
   "source": [
    "try:\n",
    "    reset_arena_obs()\n",
    "except rospy.ServiceException as e:\n",
    "    print(\"Service call failed: %s\" + str(e))            "
   ]
  },
  {
   "cell_type": "markdown",
   "metadata": {
    "id": "TX-_FTwmtn0Q"
   },
   "source": [
    "We propose a small modification on the previous controller by introducing an extra *repulsive term* as follows:\n",
    "\n",
    "$$\n",
    "u = - K \\tilde \\xi + \\frac{k_o}{d^2} ( \\xi - \\xi_o ) + \\dot{\\xi}_d \\,, \\quad d = ||\\xi - \\xi_o ||-r\n",
    "$$\n",
    "\n",
    "where $k_o$ is a positive gain, and $\\xi_o = [1.0, 1.0]$ and $r$ are the center position of the obstacle and radius, respectively. Notice how $d$ is the distance between the robot position and the obstacle boundary.\n",
    "\n",
    "Note that the new term can be interpreted as a repulsive field around the obstacle, as shown by the simulations below.\n",
    "\n",
    "First, we consider the case were $k_o$ is a constant."
   ]
  },
  {
   "cell_type": "code",
   "execution_count": 36,
   "metadata": {
    "id": "jRjemunCtn0Q"
   },
   "outputs": [],
   "source": [
    "msg = rospy.wait_for_message('/odom0_obs' + team, Odometry, timeout=None)\n",
    "   \n",
    "# Dynamics: States=[x] Control=[u] where x_dot=u\n",
    "initial_state = [msg.pose.pose.position.x, msg.pose.pose.position.y]\n",
    "initial_control = [0.0, 0.0]\n",
    "\n",
    "dt = 0.01\n",
    "sim_time = 10\n",
    "time = []\n",
    "ux, uy = [], []\n",
    "x, y = [], []\n",
    "xdv, ydv = [], []\n",
    "\n",
    "#Gain\n",
    "kx, ky = 1, 1\n",
    "K = np.diag([kx,ky])\n",
    "\n",
    "Ko = 0.1*K\n",
    "xo = np.array([ 1.0, 1.0 ])\n",
    "radius = 0.5\n",
    "\n",
    "run = True\n",
    "if run:\n",
    "    for t in np.linspace(0.0, sim_time, num=int(sim_time/dt)):\n",
    "\n",
    "        # Time\n",
    "        time.append(t)\n",
    "        xid = np.array([ 1.5, 2.0 ])\n",
    "        dot_xid = np.array([ 0.0, 0.0 ])\n",
    "\n",
    "        # Control\n",
    "        noise_bias = 0.0\n",
    "        noise_std_deviation = 0.0\n",
    "        msg = rospy.wait_for_message('/odom0_obs' + team, Odometry, timeout=None)\n",
    "        state = [msg.pose.pose.position.x, msg.pose.pose.position.y] + np.random.normal(noise_bias,noise_std_deviation,2)\n",
    "\n",
    "        distance = np.linalg.norm(state - xo) - radius    \n",
    "        u_control = - K @ ( state - xid ) + (1/distance**2)*Ko @ ( state - xo ) + dot_xid\n",
    "\n",
    "        # Send actuation commands\n",
    "        msg_act = Twist()\n",
    "        msg_act.linear.x = u_control[0]\n",
    "        msg_act.linear.y = u_control[1]\n",
    "        pub0_obs.publish(msg_act)\n",
    "\n",
    "        ux.append(u_control[0])\n",
    "        uy.append(u_control[1])\n",
    "\n",
    "        x.append(state[0])\n",
    "        y.append(state[1])\n",
    "\n",
    "        xdv.append(xid[0])\n",
    "        ydv.append(xid[1])\n",
    "    run = False\n",
    "    \n",
    "msg = Twist()\n",
    "msg.linear.x = 0.0\n",
    "msg.linear.y = 0.0\n",
    "pub0.publish(msg)"
   ]
  },
  {
   "cell_type": "code",
   "execution_count": 37,
   "metadata": {
    "colab": {
     "base_uri": "https://localhost:8080/",
     "height": 299
    },
    "id": "e8WGdkNMtn0Q",
    "outputId": "a550ddaf-3c8b-4682-a727-7dcee9467db2",
    "scrolled": true
   },
   "outputs": [
    {
     "data": {
      "image/png": "[encoded data removed]",
      "text/plain": [
       "<Figure size 432x288 with 1 Axes>"
      ]
     },
     "metadata": {
      "needs_background": "light"
     },
     "output_type": "display_data"
    }
   ],
   "source": [
    "circle = plt.Circle((1.0, 1.0), 0.5, color='g', label='obstacle')\n",
    "robot = plt.Circle((0.0, 0.0), 0.02, color='k', label='$(x(t),y(t))$')\n",
    "goal = plt.Circle((1.5, 2.0), 0.02, color='b', label='Goal')\n",
    "\n",
    "fig, ax = plt.subplots()\n",
    "\n",
    "ax.axis('equal')\n",
    "plt.xlim(-1,2.2)\n",
    "plt.ylim(-1,2.2)\n",
    "plt.grid()\n",
    "\n",
    "ax.add_patch(circle);\n",
    "ax.add_patch(robot);\n",
    "ax.add_patch(goal);\n",
    "\n",
    "\n",
    "plt.plot(x, y, color='k')\n",
    "plt.xlabel('$x$');\n",
    "plt.ylabel('$y$');\n",
    "plt.title('2D trajectory');\n",
    "plt.legend();\n",
    "\n"
   ]
  },
  {
   "cell_type": "markdown",
   "metadata": {
    "id": "XBCRj2vj9Po4"
   },
   "source": [
    "Second, consider the case where the gain $k_o$ changes with the distance from the obstacle, according to\n",
    "\n",
    "$$\n",
    "k_o(d) = e^{-c d^2}\n",
    "$$\n",
    "\n",
    "where $c$ is some constant."
   ]
  },
  {
   "cell_type": "code",
   "execution_count": 38,
   "metadata": {
    "colab": {
     "base_uri": "https://localhost:8080/",
     "height": 17
    },
    "id": "aZY3l1r2tn0Q",
    "outputId": "69befd8b-a3c2-40e6-9f40-ceb886aadbde"
   },
   "outputs": [
    {
     "data": {
      "image/png": "[encoded data removed]",
      "text/plain": [
       "<Figure size 432x288 with 1 Axes>"
      ]
     },
     "metadata": {
      "needs_background": "light"
     },
     "output_type": "display_data"
    }
   ],
   "source": [
    "distance = np.linspace(0, 10, 1000)\n",
    "ko_list = np.zeros(len(distance))\n",
    "\n",
    "c = 0.5\n",
    "for k in range(len(distance)):\n",
    "    ko_list[k] = np.exp(- c*distance[k]**2)\n",
    "\n",
    "plt.figure()\n",
    "plt.plot(distance, ko_list, label='$k_o(d)$', color='g')\n",
    "\n",
    "plt.xlabel('distance $d$ [m]');\n",
    "plt.legend()\n",
    "plt.grid()\n",
    "plt.title('$k_o$');"
   ]
  },
  {
   "cell_type": "markdown",
   "metadata": {},
   "source": [
    "### Correr a célula abaixo para dar reset à arena!"
   ]
  },
  {
   "cell_type": "code",
   "execution_count": 39,
   "metadata": {},
   "outputs": [],
   "source": [
    "try:\n",
    "    reset_arena_obs()\n",
    "except rospy.ServiceException as e:\n",
    "    print(\"Service call failed: %s\" + str(e))            "
   ]
  },
  {
   "cell_type": "markdown",
   "metadata": {
    "id": "pZCqCfOd9Z0B"
   },
   "source": [
    "In this way, we can remove the trajectory offset, as shown in the simulations below."
   ]
  },
  {
   "cell_type": "code",
   "execution_count": 40,
   "metadata": {
    "id": "5eA7J7Tw9XZu"
   },
   "outputs": [],
   "source": [
    "msg = rospy.wait_for_message('/odom0_obs' + team, Odometry, timeout=None)\n",
    "   \n",
    "# Dynamics: States=[x] Control=[u] where x_dot=u\n",
    "initial_state = [msg.pose.pose.position.x, msg.pose.pose.position.y]\n",
    "initial_control = [0.0, 0.0]\n",
    "\n",
    "dt = 0.01\n",
    "sim_time = 1\n",
    "time = []\n",
    "ux, uy = [], []\n",
    "x, y = [], []\n",
    "xdv, ydv = [], []\n",
    "kx, ky = 1, 1\n",
    "K = np.diag([kx,ky])\n",
    "\n",
    "Ko_init = 0.1*K\n",
    "xo = np.array([ 1.0, 1.0 ])\n",
    "radius = 0.5\n",
    "\n",
    "run = True\n",
    "if run:\n",
    "    for t in np.linspace(0.0, sim_time, num=int(sim_time/dt)):\n",
    "\n",
    "        # Time\n",
    "        time.append(t)\n",
    "        xid = np.array([ 1.5, 2.0 ])\n",
    "        dot_xid = np.array([ 0.0, 0.0 ])\n",
    "\n",
    "        # Control\n",
    "        noise_bias = 0.0\n",
    "        noise_std_deviation = 0.0\n",
    "        msg = rospy.wait_for_message('/odom0_obs' + team, Odometry, timeout=None)\n",
    "        state = [msg.pose.pose.position.x, msg.pose.pose.position.y] + np.random.normal(noise_bias,noise_std_deviation,2)\n",
    "\n",
    "        c = 5\n",
    "        distance = np.linalg.norm(state - xo) - radius    \n",
    "        ko = np.exp(-c*distance**2)\n",
    "        Ko = ko*Ko_init\n",
    "        u_control = - K @ ( state - xid ) + (1/distance**2)*Ko @ ( state - xo ) + dot_xid\n",
    "\n",
    "        # Send actuation commands\n",
    "        msg_act = Twist()\n",
    "        msg_act.linear.x = u_control[0]\n",
    "        msg_act.linear.y = u_control[1]\n",
    "        pub0_obs.publish(msg_act)\n",
    "\n",
    "        ux.append(u_control[0])\n",
    "        uy.append(u_control[1])\n",
    "\n",
    "        x.append(state[0])\n",
    "        y.append(state[1])\n",
    "\n",
    "        xdv.append(xid[0])\n",
    "        ydv.append(xid[1])\n",
    "    run = False\n",
    "    \n",
    "msg = Twist()\n",
    "msg.linear.x = 0.0\n",
    "msg.linear.y = 0.0\n",
    "pub0.publish(msg)"
   ]
  },
  {
   "cell_type": "code",
   "execution_count": 41,
   "metadata": {
    "colab": {
     "base_uri": "https://localhost:8080/",
     "height": 17
    },
    "id": "847mar8K9eB2",
    "outputId": "edc27b05-f94e-4372-e2c2-a64413a6ac7b"
   },
   "outputs": [
    {
     "data": {
      "image/png": "[encoded data removed]",
      "text/plain": [
       "<Figure size 432x288 with 1 Axes>"
      ]
     },
     "metadata": {
      "needs_background": "light"
     },
     "output_type": "display_data"
    }
   ],
   "source": [
    "circle = plt.Circle(xo, radius, color='g', label='obstacle')\n",
    "robot = plt.Circle(initial_state, 0.02, color='k', label='$(x(t),y(t))$')\n",
    "goal = plt.Circle(xid, 0.02, color='b', label='Goal')\n",
    "\n",
    "fig, ax = plt.subplots()\n",
    "\n",
    "ax.axis('equal')\n",
    "plt.xlim(-1,2.2)\n",
    "plt.ylim(-1,2.2)\n",
    "plt.grid()\n",
    "\n",
    "ax.add_patch(circle);\n",
    "ax.add_patch(robot);\n",
    "ax.add_patch(goal);\n",
    "\n",
    "\n",
    "plt.plot(x, y, color='k')\n",
    "plt.xlabel('$x$');\n",
    "plt.ylabel('$y$');\n",
    "plt.title('2D trajectory');\n",
    "plt.legend();\n",
    "\n"
   ]
  },
  {
   "cell_type": "markdown",
   "metadata": {
    "id": "HAKiUbP-q9kc"
   },
   "source": [
    "**Activity 7.** Go above and try:\n",
    "\n",
    "1. Other position goals $\\xi_d$, and different obstacles positions\n",
    "2. More than one obstacle"
   ]
  }
 ],
 "metadata": {
  "colab": {
   "collapsed_sections": [],
   "name": "single_agent.ipynb",
   "provenance": []
  },
  "kernelspec": {
   "display_name": "Python 3",
   "language": "python",
   "name": "python3"
  },
  "language_info": {
   "codemirror_mode": {
    "name": "ipython",
    "version": 3
   },
   "file_extension": ".py",
   "mimetype": "text/x-python",
   "name": "python",
   "nbconvert_exporter": "python",
   "pygments_lexer": "ipython3",
   "version": "3.8.10"
  }
 },
 "nbformat": 4,
 "nbformat_minor": 1
}
