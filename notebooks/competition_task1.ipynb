{
 "cells": [
  {
   "cell_type": "markdown",
   "metadata": {
    "id": "uKZfaHPstn0G",
    "tags": []
   },
   "source": [
    "# **Swarm Robotics Competitions**\n",
    "\n",
    "### 2021/2022      \n",
    "\n",
    "## A. Pedro Aguiar\n",
    "<pedro.aguiar@fe.up.pt>\n",
    "<br>\n",
    "\n",
    "<br> FEUP Nov. 2021"
   ]
  },
  {
   "cell_type": "markdown",
   "metadata": {
    "id": "WhZfXQEytn0H"
   },
   "source": [
    "\n",
    "# Competition Swarm Robotics\n"
   ]
  },
  {
   "cell_type": "markdown",
   "metadata": {
    "id": "Bo8DFGfttn0I"
   },
   "source": [
    "\n",
    "### **A swarm of 5 agents with a leader agent** steering to resource $R_1$\n"
   ]
  },
  {
   "cell_type": "markdown",
   "metadata": {
    "id": "O614fCDUtn0J"
   },
   "source": [
    "Consider a fleet of n=5 agents (robots), and let agent 1 be the leader.\n",
    "\n",
    "Consider also that:\n",
    "- leader 1 has access to its position $\\xi_1$\n",
    "- all the other agents only have access to the relative position with respect to the other agents, that is, $\\xi_{ij}=\\xi_i-\\xi_j$.  This is only true if they are close to each other (maximum range of 2m), otherwise they are considered lost and you are unable to control them. To regain control you need to get within 2m of the lost drone.\n",
    "- all the agents have access to the closest distance and angle (direction) of the nearest obstacle, that is, $d_{io}$ and $\\theta_{io}$.\n",
    "\n",
    "**Goal:** Reach the resource $R_1$ with at least 2 agents and carry the resource to the base (The base has a green border in the plot).\n",
    "\n",
    "- if the agents carrying food get more than 1.5m appart, the food will drop in its initial position. The same thing will happen if one (or both) of the drones carrying the food collides with another drone or a wall.\n",
    "- if the leader is destroyed, you loose control of all drones.\n",
    "- each pair of drones can only carry one type of food, i.e. if drone 2 is carying food 1 with drone x, drone 2 will be unable to carry food 2 with any other drone.\n",
    "- 4 times are considered for scores. The times of catching food 1 and 2, and the times of dropping the food at base. If the drones drop the food, the time will be reset. "
   ]
  },
  {
   "cell_type": "markdown",
   "metadata": {
    "id": "8ywfCmeRtn0M"
   },
   "source": [
    "**Solution:** From the notebook \"*Motion control of a single agent*\", one option is to assign to agent 1 (leader) the feedback control law\n",
    "\n",
    "$$\n",
    "u_1 = - K_1 (\\xi_1-\\xi_d) + \\frac{k_{1o}(d_{1o})}{d_{1o}^2} ( \\xi_1 - \\xi_o ) + \\dot{\\xi}_d, \\quad\n",
    "k_{1o}(d_{1o}) = \\bar k_{1o}e^{-c d_{1o}^2},\n",
    "$$\n",
    "\n",
    "where\n",
    "$K_1, k_{1o}, c$ are positive gains, $d_{1o}$ is the range to the nearest obstacle, $\\xi_o$ is the center of the obstacle, and \n",
    "\n",
    "$$\n",
    "\\xi_d = R_1, \\quad \\dot\\xi_d = 0\n",
    "$$\n",
    "\n",
    "\n",
    "\n",
    "\n",
    "\n"
   ]
  },
  {
   "cell_type": "markdown",
   "metadata": {
    "id": "H1mDWdS_3KYh"
   },
   "source": [
    "Note that the above law cannot be implementable because we don't know $\\xi_0$ !\n",
    "\n",
    "But we can consider $\\xi_0$ to be the closest point of the obstacle to the agent. In that case, we get $\\xi_0= \\xi_1+[d_{1o}\\cos\\theta_{1o}, d_{1o}\\sin\\theta_{1o}]^T$, and therefore, the control law simplifies to\n",
    "\n",
    "$$\n",
    "u_1 = - K_1 (\\xi_1-\\xi_d) - \\frac{k_{1o}(d_{1o})}{d_{1o}} \n",
    "\\left[\n",
    "\\begin{array}{c}\n",
    "\\cos\\theta_{1o} \\\\\n",
    "\\sin\\theta_{1o}\n",
    "\\end{array}\n",
    "\\right]\n",
    "$$\n",
    "where $d_{1o}$ and $\\theta_{1o}$ is the range and angle of agent $i$ to the nearest obstacle."
   ]
  },
  {
   "cell_type": "markdown",
   "metadata": {},
   "source": [
    "To make sure that the other agents follow the leader, we set \n",
    "\n",
    "$$\n",
    "u_i = - K_i \\sum_{j\\in N_i}\\big(\\xi_{ij} -b_{ij}\\big) + \\sum_{j= 1}^n \\frac{k_{ij}(d_{ij})}{d_{ij}^2}  \\xi_{ij} - \\frac{k_{io}(d_{io})}{d_{io}} \n",
    "\\left[\n",
    "\\begin{array}{c}\n",
    "\\cos\\theta_{io} \\\\\n",
    "\\sin\\theta_{io}\n",
    "\\end{array}\n",
    "\\right]\n",
    "+\n",
    "\\dot \\xi_d, \\quad i=2, 3,\\ldots n\n",
    "$$\n",
    "\n",
    "$$\n",
    "d_{ij} = ||\\xi_{ij}||, \\quad\n",
    "%d_{io} = ||\\xi_i - \\xi_o ||\n",
    "$$\n",
    "\n",
    "\n",
    "\n",
    "where $K_i$ is a $2\\times 2$ positive-definite matrix gain, and the bias terms $b_{ij}= -b_{ji}$ specifies the formation configuration.\n",
    "\n"
   ]
  },
  {
   "cell_type": "code",
   "execution_count": 1,
   "metadata": {},
   "outputs": [],
   "source": [
    "import math\n",
    "import numpy as np\n",
    "from dynamic_systems import Integrator, Line, Ellipse, World, ConvexPolygon, check_collisions, proximity, closest_drones, food_base_check\n",
    "\n",
    "# World arena\n",
    "arena = ConvexPolygon([[ 10.0, -10.0 ],\n",
    "                       [ 10.0, 10.0 ],\n",
    "                       [ -10.0, 10.0 ],\n",
    "                       [ -10.0, -10.0]])\n",
    "\n",
    "# World obstacles\n",
    "obs1 = Ellipse(center = [-1.0, -1.0], angle = np.radians(15.0), axes = [3.0, 1.5])\n",
    "\n",
    "# Food\n",
    "food = {1: [-5,4], 2:[0,0]}\n",
    "num_foods = 1\n",
    "dot_xid = (0,0)\n",
    "looking_for = 0\n",
    "\n",
    "# Base\n",
    "x_base = (-7.5,-7.5)\n",
    "\n",
    "# Define world\n",
    "world = World(arena)\n",
    "world.add_obstacle(obs1)\n",
    "\n",
    "#######################\n",
    "# Dynamics: States=[xi] Control=[u] where xi_dot=u\n",
    "initial_state1 = [0.0, -8.0]\n",
    "initial_control1 = [0.0, 0.0]\n",
    "robot1 = Integrator(initial_state1, initial_control1)\n",
    "\n",
    "initial_state2 = [0.5, -8.0]\n",
    "initial_control2 = [0.0, 0.0]\n",
    "robot2 = Integrator(initial_state2, initial_control2)\n",
    "\n",
    "initial_state3 = [1.0, -8.0]\n",
    "initial_control3 = [0.0, 0.0]\n",
    "robot3 = Integrator(initial_state3, initial_control3)\n",
    "\n",
    "initial_state4 = [1.5, -8.0]\n",
    "initial_control4 = [0.0, 0.0]\n",
    "robot4 = Integrator(initial_state4, initial_control4)\n",
    "\n",
    "initial_state5 = [2.0, -8.0]\n",
    "initial_control5 = [0.0, 0.0]\n",
    "robot5 = Integrator(initial_state5, initial_control5)\n",
    "\n",
    "dt = 0.1\n",
    "sim_time = 100\n",
    "time = []\n",
    "ux1, uy1 = [], []\n",
    "x1, y1 = [], []\n",
    "ux2, uy2 = [], []\n",
    "x2, y2 = [], []\n",
    "ux3, uy3 = [], []\n",
    "x3, y3 = [], []\n",
    "ux4, uy4 = [], []\n",
    "x4, y4 = [], []\n",
    "ux5, uy5 = [], []\n",
    "x5, y5 = [], []\n",
    "xdv, ydv = [], []\n",
    "\n",
    "distance41 = []\n",
    "distance21 = []\n",
    "distance31 = []\n",
    "distance51 = []\n",
    "\n",
    "cpx1, cpy1 = [], []\n",
    "cpx2, cpy2 = [], []\n",
    "cpx3, cpy3 = [], []\n",
    "cpx4, cpy4 = [], []\n",
    "cpx5, cpy5 = [], []\n",
    "\n",
    "R1 = np.array([5, 5])\n",
    "do = np.zeros((5)) # Distance to obstacle\n",
    "\n",
    "\n",
    "# Matrices \n",
    "c_mtx = np.zeros((5)) # Collision matrix\n",
    "d_mtx = np.zeros((5)) # Damaged matrix\n",
    "l_mtx = np.zeros((5)) # Lost matrix\n",
    "food_delivered = np.zeros((2)) # Delivered food\n",
    "w_food_mtx = np.zeros((5)) # Matrix that tells if a pair of drones cought some food\n",
    "time_score = np.array([999,999,999,999]) # 0 - caught food 1, 1 - caught food 2, 2 - left food 1 in base, 3 - left food 2 in base"
   ]
  },
  {
   "cell_type": "code",
   "execution_count": 2,
   "metadata": {},
   "outputs": [
    {
     "name": "stderr",
     "output_type": "stream",
     "text": [
      "/home/joaocsa/.local/lib/python3.8/site-packages/scipy/optimize/minpack.py:175: RuntimeWarning: The iteration is not making good progress, as measured by the \n",
      "  improvement from the last ten iterations.\n",
      "  warnings.warn(msg, RuntimeWarning)\n"
     ]
    }
   ],
   "source": [
    "###################################################################################################\n",
    "##                                                                                               ##\n",
    "##                              Section of values that you can tune                              ##\n",
    "##                                                                                               ##\n",
    "###################################################################################################\n",
    "\n",
    "# !! Gain matrix !!\n",
    "kx, ky = 1, 1 \n",
    "K = np.diag([kx,ky])\n",
    "\n",
    "# !! k_ij, k_io, c gains !!\n",
    "#Kio = np.diag([kx,ky])\n",
    "#kij = np.diag([kx,ky])\n",
    "#c = ...             \n",
    "\n",
    "\n",
    "# !! Bias values !!\n",
    "# b12 = [x,y]...\n",
    "\n",
    "\n",
    "###################################################################################################\n",
    "##                                                                                               ##\n",
    "##                                         End of section                                        ##\n",
    "##                                                                                               ##\n",
    "###################################################################################################\n",
    "\n",
    "\n",
    "\n",
    "for t in np.linspace(0.0, sim_time, num=int(sim_time/dt)):\n",
    "\n",
    "    # Time\n",
    "    time.append(t)\n",
    "\n",
    "    # Get the state\n",
    "    state1 = robot1.get_state()\n",
    "    state2 = robot2.get_state()\n",
    "    state3 = robot3.get_state()\n",
    "    state4 = robot4.get_state()\n",
    "    state5 = robot5.get_state()\n",
    "    \n",
    "    # Relative positions\n",
    "    xi21 = state2 - state1  \n",
    "    xi31 = state3 - state1    \n",
    "    xi41 = state4 - state1    \n",
    "    xi51 = state5 - state1   \n",
    "\n",
    "\n",
    "###################################################################################################\n",
    "##                                                                                               ##\n",
    "##                                      Your code goes here                                      ##\n",
    "##                                                                                               ##\n",
    "###################################################################################################\n",
    "    \n",
    "    # Control law\n",
    "    # Drone 1 - Leader\n",
    "    closest_pt, do[0] = world.compute_closest(state1) # closest point and distance to that point\n",
    "    angle = np.arctan2(closest_pt[1]-state1[1],closest_pt[0]-state1[0])\n",
    "    cpx1.append(closest_pt[0])\n",
    "    cpy1.append(closest_pt[1])\n",
    "    # u_control1 = ...\n",
    "\n",
    "\n",
    "    # Drone 2 \n",
    "    closest_pt, do[1] = world.compute_closest(state2)\n",
    "    angle = np.arctan2(closest_pt[1]-state2[1],closest_pt[0]-state2[0])\n",
    "    cpx2.append(closest_pt[0])\n",
    "    cpy2.append(closest_pt[1])\n",
    "    # u_control2 = ...\n",
    "\n",
    "\n",
    "    # Drone 3\n",
    "    closest_pt, do[2] = world.compute_closest(state3)\n",
    "    angle = np.arctan2(closest_pt[1]-state3[1],closest_pt[0]-state3[0])\n",
    "    cpx3.append(closest_pt[0])\n",
    "    cpy3.append(closest_pt[1])\n",
    "    # u_control3 = ... \n",
    "\n",
    "\n",
    "    # Drone 4\n",
    "    closest_pt, do[3] = world.compute_closest(state4)\n",
    "    angle = np.arctan2(closest_pt[1]-state4[1],closest_pt[0]-state4[0])\n",
    "    cpx4.append(closest_pt[0])\n",
    "    cpy4.append(closest_pt[1])\n",
    "    # u_control4 = ... \n",
    "    \n",
    "\n",
    "    # Drone 5\n",
    "    closest_pt, do[4] = world.compute_closest(state5)\n",
    "    angle = np.arctan2(closest_pt[1]-state5[1],closest_pt[0]-state5[0])\n",
    "    cpx5.append(closest_pt[0])\n",
    "    cpy5.append(closest_pt[1])\n",
    "    # u_control5 = ...\n",
    "\n",
    "    # !! Delete these to be able to control the drones !!\n",
    "    u_control1 = (0,0)\n",
    "    u_control2 = (0,0)\n",
    "    u_control3 = (0,0)\n",
    "    u_control4 = (0,0)\n",
    "    u_control5 = (0,0)\n",
    "\n",
    "###################################################################################################\n",
    "##                                                                                               ##\n",
    "##                              End of code section, don edit this part                          ##\n",
    "##                                                                                               ##\n",
    "###################################################################################################\n",
    "\n",
    "\n",
    "    xi = (xi21, xi31, xi41, xi51)\n",
    "    points_vec = np.array([state1,state2,state3,state4,state5])\n",
    "\n",
    "    # Collision check between drones\n",
    "    l_mtx, d_mtx, w_food_mtx, time_score = check_collisions(points_vec, l_mtx, d_mtx, w_food_mtx, do, xi, time_score)\n",
    "    prox_mtx_1, prox_mtx_2 = proximity(points_vec, food, num_foods)\n",
    "\n",
    "    # Send actuation commands\n",
    "    if d_mtx[0]==1:\n",
    "        u_control1=[0,0]\n",
    "        u_control2=[0,0]\n",
    "        u_control3=[0,0]\n",
    "        u_control4=[0,0]\n",
    "        u_control5=[0,0]\n",
    "        prox_mtx_1[0] = 99\n",
    "        prox_mtx_2[0] = 99    \n",
    "        prox_mtx_1[1] = 99\n",
    "        prox_mtx_2[1] = 99        \n",
    "        prox_mtx_1[2] = 99\n",
    "        prox_mtx_2[2] = 99        \n",
    "        prox_mtx_1[3] = 99\n",
    "        prox_mtx_2[3] = 99        \n",
    "        prox_mtx_1[4] = 99\n",
    "        prox_mtx_2[4] = 99        \n",
    "\n",
    "    if d_mtx[1]==1 or l_mtx[1]==1:\n",
    "        u_control2=[0,0]\n",
    "        prox_mtx_1[1] = 99\n",
    "        prox_mtx_2[1] = 99\n",
    "\n",
    "    if d_mtx[2]==1 or l_mtx[2]==1:\n",
    "        u_control3=[0,0]\n",
    "        prox_mtx_1[2] = 99\n",
    "        prox_mtx_2[2] = 99\n",
    "\n",
    "    if d_mtx[3]==1 or l_mtx[3]==1:\n",
    "        u_control4=[0,0]\n",
    "        prox_mtx_1[3] = 99\n",
    "        prox_mtx_2[3] = 99\n",
    "\n",
    "    if d_mtx[4]==1 or l_mtx[4]==1:\n",
    "        u_control5=[0,0]\n",
    "        prox_mtx_1[4] = 99\n",
    "        prox_mtx_2[4] = 99\n",
    "\n",
    "    \n",
    "    # Find the closest drones to the food\n",
    "    w_food_mtx, time_score = closest_drones(prox_mtx_1, prox_mtx_2, w_food_mtx, time_score, t, food_delivered, looking_for, num_foods)\n",
    "    \n",
    "    u_control1 = np.clip(u_control1, -1, 1)\n",
    "    u_control2 = np.clip(u_control2, -1, 1)\n",
    "    u_control3 = np.clip(u_control3, -1, 1)\n",
    "    u_control4 = np.clip(u_control4, -1, 1)\n",
    "    u_control5 = np.clip(u_control5, -1, 1)\n",
    "\n",
    "    robot1.set_control(u_control1)\n",
    "    robot1.actuate(dt)\n",
    "    robot2.set_control(u_control2)\n",
    "    robot2.actuate(dt)\n",
    "    robot3.set_control(u_control3)\n",
    "    robot3.actuate(dt)\n",
    "    robot4.set_control(u_control4)\n",
    "    robot4.actuate(dt)\n",
    "    robot5.set_control(u_control5)\n",
    "    robot5.actuate(dt)    \n",
    "\n",
    "    \n",
    "    ux1.append(u_control1[0])\n",
    "    uy1.append(u_control1[1])\n",
    "    x1.append(state1[0])\n",
    "    y1.append(state1[1])\n",
    "    ux2.append(u_control2[0])\n",
    "    uy2.append(u_control2[1])\n",
    "    x2.append(state2[0])\n",
    "    y2.append(state2[1])\n",
    "    ux3.append(u_control3[0])\n",
    "    uy3.append(u_control3[1])\n",
    "    x3.append(state3[0])\n",
    "    y3.append(state3[1])\n",
    "    ux4.append(u_control4[0])\n",
    "    uy4.append(u_control4[1])\n",
    "    x4.append(state4[0])\n",
    "    y4.append(state4[1])\n",
    "    ux5.append(u_control5[0])\n",
    "    uy5.append(u_control5[1])\n",
    "    x5.append(state5[0])\n",
    "    y5.append(state5[1])\n",
    "\n",
    "    distance41.append(np.sqrt(xi41[0]**2 + xi41[1]**2))\n",
    "    distance21.append(np.sqrt(xi21[0]**2 + xi21[1]**2))\n",
    "    distance31.append(np.sqrt(xi31[0]**2 + xi31[1]**2))\n",
    "    distance51.append(np.sqrt(xi51[0]**2 + xi51[1]**2))\n",
    "\n",
    "    w_food_mtx, time_score, food_delivered = food_base_check(w_food_mtx, points_vec, food, time_score, t, food_delivered)"
   ]
  },
  {
   "cell_type": "code",
   "execution_count": 3,
   "metadata": {},
   "outputs": [
    {
     "name": "stdout",
     "output_type": "stream",
     "text": [
      "Results:\n"
     ]
    },
    {
     "data": {
      "image/png": "[encoded data removed]",
      "text/plain": [
       "<Figure size 1296x1296 with 1 Axes>"
      ]
     },
     "metadata": {
      "needs_background": "light"
     },
     "output_type": "display_data"
    },
    {
     "data": {
      "image/png": "[encoded data removed]",
      "text/plain": [
       "<Figure size 432x288 with 1 Axes>"
      ]
     },
     "metadata": {
      "needs_background": "light"
     },
     "output_type": "display_data"
    },
    {
     "data": {
      "image/png": "[encoded data removed]",
      "text/plain": [
       "<Figure size 432x288 with 1 Axes>"
      ]
     },
     "metadata": {
      "needs_background": "light"
     },
     "output_type": "display_data"
    },
    {
     "data": {
      "image/png": "[encoded data removed]",
      "text/plain": [
       "<Figure size 432x288 with 1 Axes>"
      ]
     },
     "metadata": {
      "needs_background": "light"
     },
     "output_type": "display_data"
    },
    {
     "data": {
      "image/png": "[encoded data removed]",
      "text/plain": [
       "<Figure size 432x288 with 1 Axes>"
      ]
     },
     "metadata": {
      "needs_background": "light"
     },
     "output_type": "display_data"
    },
    {
     "data": {
      "image/png": "[encoded data removed]",
      "text/plain": [
       "<Figure size 432x288 with 1 Axes>"
      ]
     },
     "metadata": {
      "needs_background": "light"
     },
     "output_type": "display_data"
    },
    {
     "data": {
      "image/png": "[encoded data removed]",
      "text/plain": [
       "<Figure size 432x288 with 1 Axes>"
      ]
     },
     "metadata": {
      "needs_background": "light"
     },
     "output_type": "display_data"
    }
   ],
   "source": [
    "# Plot commands\n",
    "%matplotlib inline \n",
    "#%matplotlib notebook\n",
    "\n",
    "import matplotlib.pyplot as plt\n",
    "\n",
    "fig, ax = plt.subplots(figsize=(18,18))\n",
    "\n",
    "#plt.figure(figsize=(1,1))\n",
    "ax.axis('equal')\n",
    "xdim, ydim = 10, 10\n",
    "plt.xlim(-xdim-1,xdim+1)\n",
    "plt.ylim(-ydim-1,ydim+1)\n",
    "plt.grid()\n",
    "\n",
    "\n",
    "# Plots walls and obstacles\n",
    "world.plot()\n",
    "\n",
    "plt.plot(x1, y1, label='$x_1(t), y_1(t)$', color='b')\n",
    "plt.scatter(cpx1, cpy1, label='$cpx_1(t), cpy_1(t)$', marker='o', color='k')\n",
    "plt.plot(x2, y2, label='$x_2(t), y_2(t)$', color='k')\n",
    "plt.plot(x3, y3, label='$x_3(t), y_3(t)$', color='g')\n",
    "plt.plot(x4, y4, label='$x_4(t), y_4(t)$', color='r')\n",
    "plt.plot(x5, y5, label='$x_5(t), y_5(t)$', color='c')\n",
    "plt.plot((-10,-5),(-5,-5), color='g')\n",
    "plt.plot((-5,-5),(-5,-10), color='g')\n",
    "plt.plot(food[1][0], food[1][1], marker='o', color='r')\n",
    "if num_foods == 2:\n",
    "    plt.plot(food[2][0], food[2][1], marker='o', color='g')\n",
    "if d_mtx[0] == 1:\n",
    "    plt.plot(state1[0], state1[1], marker='*', color='y')\n",
    "if d_mtx[1] == 1:\n",
    "    plt.plot(state2[0], state2[1], marker='*', color='y')\n",
    "if d_mtx[2] == 1:\n",
    "    plt.plot(state3[0], state3[1], marker='*', color='y')\n",
    "if d_mtx[3] == 1:\n",
    "    plt.plot(state4[0], state4[1], marker='*', color='y')\n",
    "if d_mtx[4] == 1:\n",
    "    plt.plot(state5[0], state5[1], marker='*', color='y')\n",
    "\n",
    "\n",
    "plt.figure()\n",
    "plt.plot(time, x1, label='$x_1(t)$', color='b')\n",
    "plt.plot(time, y1, label='$y_1(t)$', color='b', linestyle='dashed')\n",
    "plt.plot(time, x2, label='$x_2(t)$', color='k')\n",
    "plt.plot(time, y2, label='$y_2(t)$', color='k', linestyle='dashed')\n",
    "plt.plot(time, x3, label='$x_3(t)$', color='g')\n",
    "plt.plot(time, y3, label='$y_3(t)$', color='g', linestyle='dashed')\n",
    "plt.plot(time, x4, label='$x_4(t)$', color='r')\n",
    "plt.plot(time, y4, label='$y_4(t)$', color='r', linestyle='dashed')\n",
    "plt.plot(time, x5, label='$x_5(t)$', color='c')\n",
    "plt.plot(time, y5, label='$y_5(t)$', color='c', linestyle='dashed')\n",
    "\n",
    "plt.xlabel('time $t$ [s]')\n",
    "plt.legend()\n",
    "plt.grid()\n",
    "plt.title('Time evolution of the state of each agent');\n",
    "\n",
    "plt.figure()\n",
    "plt.plot(time, distance41, label='$x_1(t)$', color='r')\n",
    "plt.grid()\n",
    "plt.title('Distance between agent 1 and agent 4');\n",
    "\n",
    "plt.figure()\n",
    "plt.plot(time, distance21, label='$x_1(t)$', color='k')\n",
    "plt.grid()\n",
    "plt.title('Distance between agent 1 and agent 2');\n",
    "\n",
    "plt.figure()\n",
    "plt.plot(time, distance31, label='$x_1(t)$', color='g')\n",
    "plt.grid()\n",
    "plt.title('Distance between agent 1 and agent 3');\n",
    "\n",
    "plt.figure()\n",
    "plt.plot(time, distance51, label='$x_1(t)$', color='c')\n",
    "plt.grid()\n",
    "plt.title('Distance between agent 1 and agent 5');\n",
    "\n",
    "plt.figure()\n",
    "plt.plot(time, ux1, label='$ux_1(t)$', color='b')\n",
    "plt.plot(time, uy1, label='$uy_1(t)$', color='b', linestyle='dashed')\n",
    "plt.xlabel('time $t$ [s]')\n",
    "plt.legend()\n",
    "plt.grid()\n",
    "\n",
    "print(\"Results:\")"
   ]
  }
 ],
 "metadata": {
  "colab": {
   "collapsed_sections": [],
   "name": "swarm_agents.ipynb",
   "provenance": []
  },
  "kernelspec": {
   "display_name": "Python 3",
   "language": "python",
   "name": "python3"
  },
  "language_info": {
   "codemirror_mode": {
    "name": "ipython",
    "version": 3
   },
   "file_extension": ".py",
   "mimetype": "text/x-python",
   "name": "python",
   "nbconvert_exporter": "python",
   "pygments_lexer": "ipython3",
   "version": "3.8.10"
  }
 },
 "nbformat": 4,
 "nbformat_minor": 1
}
