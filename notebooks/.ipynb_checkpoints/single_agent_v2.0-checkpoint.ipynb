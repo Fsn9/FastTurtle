{
 "cells": [
  {
   "cell_type": "markdown",
   "metadata": {
    "id": "uKZfaHPstn0G",
    "tags": []
   },
   "source": [
    "# **Swarm Robotics Competitions**\n",
    "\n",
    "### 2021/2022      \n",
    "\n",
    "## A. Pedro Aguiar\n",
    "<pedro.aguiar@fe.up.pt>\n",
    "<br>\n",
    "\n",
    "<br> FEUP Oct. 2021"
   ]
  },
  {
   "cell_type": "code",
   "execution_count": 1,
   "metadata": {},
   "outputs": [
    {
     "name": "stdout",
     "output_type": "stream",
     "text": [
      "/home/csr-g09/catkin_ws/src/fast_turtle\n"
     ]
    }
   ],
   "source": [
    "cd ~/catkin_ws/src/fast_turtle"
   ]
  },
  {
   "cell_type": "markdown",
   "metadata": {},
   "source": [
    "### Nota: Substituir abaixo csr-gxx pelo id da equipa (csr-g01 até csr-g10)"
   ]
  },
  {
   "cell_type": "code",
   "execution_count": 4,
   "metadata": {},
   "outputs": [],
   "source": [
    "import sys\n",
    "sys.path.append('/home/csr-g09/catkin_ws/devel/lib/python3/dist-packages') \n",
    "import rospy  \n",
    "from geometry_msgs.msg import Twist\n",
    "from nav_msgs.msg import Odometry\n",
    "from fast_turtle.srv import ResetArena, ResetArena_obs\n",
    "import math\n",
    "import numpy as np\n",
    "from dynamic_systems import Integrator"
   ]
  },
  {
   "cell_type": "markdown",
   "metadata": {},
   "source": [
    "### Nota: Colocar o id do team"
   ]
  },
  {
   "cell_type": "code",
   "execution_count": 5,
   "metadata": {},
   "outputs": [],
   "source": [
    "team = '9' #change according to your team id"
   ]
  },
  {
   "cell_type": "code",
   "execution_count": 6,
   "metadata": {},
   "outputs": [],
   "source": [
    "rospy.init_node('node_notebook' + team)"
   ]
  },
  {
   "cell_type": "code",
   "execution_count": 7,
   "metadata": {},
   "outputs": [],
   "source": [
    "rospy.wait_for_service('/reset_arena' + team)\n",
    "reset_arena = rospy.ServiceProxy('/reset_arena' + team, ResetArena)"
   ]
  },
  {
   "cell_type": "markdown",
   "metadata": {},
   "source": [
    "### RVIZ\n",
    "Para visualizar o simulador aceder num outro browser a http://10.227.246.62/catkin_ws/build/rvizweb/www/\n",
    "\n",
    "Em LOAD CONFIG substituir o texto pelo que está em https://docs.google.com/document/d/1PcQYREYIi1-4vSLBjynQA88yy8OzsmnQ2oRqHKO8Oj0/edit na seção \"Arena Simple\"\n",
    "(este texto define o cenário de simulação)"
   ]
  },
  {
   "cell_type": "code",
   "execution_count": 8,
   "metadata": {},
   "outputs": [],
   "source": [
    "pub0 = rospy.Publisher('/cmd_vel_sd0' + team, Twist, queue_size=10)"
   ]
  },
  {
   "cell_type": "markdown",
   "metadata": {},
   "source": [
    "### Correr a célula abaixo para dar reset à arena!"
   ]
  },
  {
   "cell_type": "markdown",
   "metadata": {},
   "source": [
    "Correr a célula abaixo para dar reset à arena!"
   ]
  },
  {
   "cell_type": "code",
   "execution_count": 9,
   "metadata": {},
   "outputs": [],
   "source": [
    "try:\n",
    "    reset_arena()\n",
    "except rospy.ServiceException as e:\n",
    "    print(\"Service call failed: %s\" + str(e))            "
   ]
  },
  {
   "cell_type": "markdown",
   "metadata": {},
   "source": [
    "### Vamos testar o simulador em open-loop"
   ]
  },
  {
   "cell_type": "code",
   "execution_count": 10,
   "metadata": {
    "id": "bzjOa_34tn0L"
   },
   "outputs": [],
   "source": [
    "dt = 0.1\n",
    "sim_time = 10\n",
    "time = []\n",
    "ux, uy = [], []\n",
    "x, y = [], []\n",
    "statex, statey = [], []\n",
    "t = 0.0\n",
    "\n",
    "rospy.sleep(0.1)\n",
    "run = True\n",
    "\n",
    "if run: \n",
    "    \n",
    "    #for t in np.linspace(0.0, sim_time, num=int(sim_time/dt)):\n",
    "    for t in np.linspace(0.0, sim_time, num=int(sim_time/dt),endpoint=False):\n",
    "\n",
    "        #print (\"time t\", t)\n",
    "        # Time\n",
    "        time.append(t)\n",
    "        # Control\n",
    "        msg = rospy.wait_for_message('/odom0' + team, Odometry, timeout=None)\n",
    "        statex = msg.pose.pose.position.x\n",
    "        statey = msg.pose.pose.position.y\n",
    "        # Control\n",
    "        if t<1:\n",
    "         u_control = [0.0, 1.0]\n",
    "        else:\n",
    "         u_control = [0.0, 0.0]\n",
    "\n",
    "\n",
    "        # Send actuation commands\n",
    "        msg = Twist()\n",
    "        msg.linear.x = u_control[0]\n",
    "        msg.linear.y = u_control[1]\n",
    "        pub0.publish(msg)\n",
    "        #rospy.loginfo(msg_act)\n",
    "        ux.append(u_control[0])\n",
    "        uy.append(u_control[1])\n",
    "        x.append(statex)\n",
    "        y.append(statey)\n",
    "\n",
    "        #rospy.loginfo(msg.pose.pose.position.x)\n",
    "    run = False\n",
    "    \n",
    "msg = Twist()\n",
    "msg.linear.x = 0.0\n",
    "msg.linear.y = 0.0\n",
    "pub0.publish(msg)\n",
    "#sub.unregister()"
   ]
  },
  {
   "cell_type": "code",
   "execution_count": null,
   "metadata": {
    "colab": {
     "base_uri": "https://localhost:8080/",
     "height": 563
    },
    "id": "AGdy_aaEtn0L",
    "outputId": "845ab0a2-83ec-401f-e12a-d80fc97f108b"
   },
   "outputs": [],
   "source": [
    "# Plot commands\n",
    "\n",
    "%matplotlib inline\n",
    "import matplotlib.pyplot as plt\n",
    "\n",
    "plt.figure()\n",
    "plt.plot(time, ux, label='input $u_x(t)$', color='b')\n",
    "plt.plot(time, uy, label='input $u_y(t)$', color='g')\n",
    "plt.plot(time, y, label='output $x(t)$', color='k')\n",
    "plt.plot(time, x, label='output $y(t)$', color='r')\n",
    "\n",
    "plt.xlabel('time $t$ [s]');\n",
    "plt.legend()\n",
    "plt.grid()\n",
    "plt.title('Time evolution of the input and output signals');\n",
    "\n",
    "plt.figure()\n",
    "plt.plot(x, y, label='$x(t), y(t)$', color='k')\n",
    "plt.xlabel('$y$');\n",
    "plt.ylabel('$x$');\n",
    "plt.grid()\n",
    "plt.title('2D trajectory');"
   ]
  },
  {
   "cell_type": "markdown",
   "metadata": {},
   "source": [
    "### Correr a célula abaixo para dar reset à arena!"
   ]
  },
  {
   "cell_type": "code",
   "execution_count": 10,
   "metadata": {},
   "outputs": [],
   "source": [
    "try:\n",
    "    reset_arena()\n",
    "except rospy.ServiceException as e:\n",
    "    print(\"Service call failed: %s\" + str(e))            "
   ]
  },
  {
   "cell_type": "markdown",
   "metadata": {
    "id": "11ZrRUzLtn0M"
   },
   "source": [
    "\n",
    "### Tracking a desired reference signal\n"
   ]
  },
  {
   "cell_type": "markdown",
   "metadata": {
    "id": "BdtcK3Cbtn0N"
   },
   "source": [
    "**Tracking in 2D:** The feedback controller is now given by\n",
    "\n",
    "$$\n",
    "u = - K \\tilde \\xi + \\dot \\xi_d\n",
    "$$\n",
    "\n",
    "where $K$ is a $2\\times 2$ positive-definite matrix gain, and\n",
    "\n",
    "$$\n",
    "\\tilde \\xi(t) = \n",
    "\\xi - \\xi_d \\,, \\quad\n",
    "\\xi_d(t) = \n",
    "\\begin{bmatrix}\n",
    "x_d(t) \\\\\n",
    "y_d(t)\n",
    "\\end{bmatrix}\n",
    "$$ \n",
    "\n",
    "is the 2D tracking error and desired reference signal, respectively.\n",
    "\n"
   ]
  },
  {
   "cell_type": "markdown",
   "metadata": {
    "id": "J3BJKqhDtn0N"
   },
   "source": [
    "Let's now check this in simulation for tracking a plane circle centered at the origin with radius 1, that is, \n",
    "\n",
    "$$\n",
    "\\xi_d(t) = \n",
    "\\begin{bmatrix}\n",
    "\\sin(t) \\\\\n",
    "\\cos(t)\n",
    "\\end{bmatrix}\n",
    "$$"
   ]
  },
  {
   "cell_type": "code",
   "execution_count": 16,
   "metadata": {
    "id": "sfb3xR96tn0N"
   },
   "outputs": [],
   "source": [
    "# Dynamics: States=[x] Control=[u] where x_dot=u\n",
    "\n",
    "dt = 0.1\n",
    "sim_time = 10\n",
    "time = []\n",
    "ux, uy = [], []\n",
    "x, y = [], []\n",
    "xdv, ydv = [], []\n",
    "\n",
    "# Gain matrix\n",
    "kx, ky = 1, 1\n",
    "K = np.diag([kx,ky])\n",
    "\n",
    "rospy.sleep(0.1)\n",
    "run = True\n",
    "\n",
    "if run:\n",
    "    \n",
    "    for t in np.linspace(0.0, sim_time, num=int(sim_time/dt)):\n",
    "\n",
    "        # Time\n",
    "        time.append(t)\n",
    "\n",
    "        # Reference signals\n",
    "        xid = np.array([ math.sin(t), math.cos(t)])\n",
    "        dot_xid = np.array([ math.cos(t), -math.sin(t) ])\n",
    "\n",
    "        # Control\n",
    "        msg = rospy.wait_for_message('/odom0' + team, Odometry, timeout=None)\n",
    "\n",
    "        state = [msg.pose.pose.position.x, msg.pose.pose.position.y]\n",
    "\n",
    "        u_control = (- K @ ( state - xid ) + dot_xid)\n",
    "\n",
    "        # Send actuation commands\n",
    "        msg_act = Twist()\n",
    "        msg_act.linear.x = u_control[0]\n",
    "        msg_act.linear.y = u_control[1]\n",
    "        pub0.publish(msg_act)\n",
    "\n",
    "        #rospy.loginfo(msg_act.linear)\n",
    "\n",
    "        ux.append(u_control[0])\n",
    "        uy.append(u_control[1])\n",
    "\n",
    "        x.append(state[0])\n",
    "        y.append(state[1])\n",
    "\n",
    "        xdv.append(xid[0])\n",
    "        ydv.append(xid[1])\n",
    "    run = False\n",
    "\n",
    "msg = Twist()\n",
    "msg.linear.x = 0.0\n",
    "msg.linear.y = 0.0\n",
    "pub0.publish(msg)"
   ]
  },
  {
   "cell_type": "code",
   "execution_count": 15,
   "metadata": {
    "colab": {
     "base_uri": "https://localhost:8080/",
     "height": 563
    },
    "id": "bTDeESzutn0O",
    "outputId": "80162f61-e47f-47e5-8033-0accdc5592bd"
   },
   "outputs": [
    {
     "data": {
      "image/png": "[encoded data removed]",
      "text/plain": [
       "<Figure size 432x288 with 1 Axes>"
      ]
     },
     "metadata": {
      "needs_background": "light"
     },
     "output_type": "display_data"
    },
    {
     "data": {
      "image/png": "[encoded data removed]",
      "text/plain": [
       "<Figure size 432x288 with 1 Axes>"
      ]
     },
     "metadata": {
      "needs_background": "light"
     },
     "output_type": "display_data"
    }
   ],
   "source": [
    "%matplotlib inline\n",
    "import matplotlib.pyplot as plt\n",
    "\n",
    "plt.figure()\n",
    "plt.plot(time, x, label='$x(t)$', color='k')\n",
    "plt.plot(time, y, label='$y(t)$', color='g')\n",
    "plt.plot(time, xdv, label='$x_d(t)$', color='k', linestyle='dashed')\n",
    "plt.plot(time, ydv, label='$y_d(t)$', color='g', linestyle='dashed')\n",
    "\n",
    "plt.xlabel('time $t$ [s]');\n",
    "plt.legend()\n",
    "plt.grid()\n",
    "plt.title('Time evolution of the state and reference signals');\n",
    "\n",
    "plt.figure()\n",
    "plt.axis('equal')\n",
    "plt.plot(x, y, label='$x(t), y(t)$', color='k')\n",
    "plt.xlabel('$x$');\n",
    "plt.ylabel('$y$');\n",
    "plt.title('2D trajectory');\n",
    "plt.grid()"
   ]
  },
  {
   "cell_type": "markdown",
   "metadata": {},
   "source": [
    "### Correr a célula abaixo para dar reset à arena!"
   ]
  },
  {
   "cell_type": "code",
   "execution_count": 22,
   "metadata": {},
   "outputs": [],
   "source": [
    "try:\n",
    "    reset_arena()\n",
    "except rospy.ServiceException as e:\n",
    "    print(\"Service call failed: %s\" + str(e))            "
   ]
  },
  {
   "cell_type": "markdown",
   "metadata": {
    "id": "-9GKDHnNNo9Y"
   },
   "source": [
    "## How to avoid an obstacle?"
   ]
  },
  {
   "cell_type": "markdown",
   "metadata": {
    "id": "a4CFzsagtn0P"
   },
   "source": [
    "Let's now assume that there is a circular shaped obstacle (green) centered at  [1.0, 1.0] with radius $r=0.5\\,m$ between the robot initial position (black) at the origin  [0.0, 0.0]  and the desired goal (blue) at  [1.5, 2.0]."
   ]
  },
  {
   "cell_type": "code",
   "execution_count": 25,
   "metadata": {
    "colab": {
     "base_uri": "https://localhost:8080/",
     "height": 281
    },
    "id": "BYNuteETtn0Q",
    "outputId": "7fee9597-7296-4900-a97f-ca03db77bfc5"
   },
   "outputs": [
    {
     "data": {
      "image/png": "[encoded data removed]",
      "text/plain": [
       "<Figure size 432x288 with 1 Axes>"
      ]
     },
     "metadata": {
      "needs_background": "light"
     },
     "output_type": "display_data"
    }
   ],
   "source": [
    "circle = plt.Circle((1.0, 1.0), 0.5, color='g', label='obstacle')\n",
    "robot = plt.Circle((0.0, 0.0), 0.02, color='k', label='$x(t)$')\n",
    "goal = plt.Circle((1.5, 2.0), 0.02, color='b', label='$x(t)$')\n",
    "\n",
    "fig, ax = plt.subplots()\n",
    "\n",
    "ax.axis('equal')\n",
    "plt.xlim(-1,2.2)\n",
    "plt.ylim(-1,2.2)\n",
    "plt.grid()\n",
    "plt.title('Robot, goal and obstacle');\n",
    "\n",
    "ax.add_patch(circle);\n",
    "ax.add_patch(robot);\n",
    "ax.add_patch(goal);"
   ]
  },
  {
   "cell_type": "markdown",
   "metadata": {},
   "source": [
    "# Nota: No rvizweb, fazer um novo load config com o setup da simulação "
   ]
  },
  {
   "cell_type": "code",
   "execution_count": 18,
   "metadata": {},
   "outputs": [],
   "source": [
    "rospy.wait_for_service('/reset_arena_obs' + team)\n",
    "reset_arena_obs = rospy.ServiceProxy('/reset_arena_obs' + team, ResetArena_obs)"
   ]
  },
  {
   "cell_type": "code",
   "execution_count": 19,
   "metadata": {},
   "outputs": [],
   "source": [
    "pub0_obs = rospy.Publisher('/cmd_vel_sd0_obs' + team, Twist, queue_size=10)"
   ]
  },
  {
   "cell_type": "code",
   "execution_count": 20,
   "metadata": {},
   "outputs": [],
   "source": [
    "try:\n",
    "    reset_arena_obs()\n",
    "except rospy.ServiceException as e:\n",
    "    print(\"Service call failed: %s\" + str(e))            "
   ]
  },
  {
   "cell_type": "markdown",
   "metadata": {
    "id": "TX-_FTwmtn0Q"
   },
   "source": [
    "We propose a small modification on the previous controller by introducing an extra *repulsive term* as follows:\n",
    "\n",
    "$$\n",
    "u = - K \\tilde \\xi + \\frac{k_o}{d^2} ( \\xi - \\xi_o ) + \\dot{\\xi}_d \\,, \\quad d = ||\\xi - \\xi_o ||-r\n",
    "$$\n",
    "\n",
    "where $k_o$ a function of the distance (see below), and $\\xi_o = [1.0, 1.0]$ and $r$ are the center position of the obstacle and radius, respectively. Notice how $d$ is the distance between the robot position and the obstacle boundary.\n",
    "\n",
    "Note that the new term can be interpreted as a repulsive field around the obstacle, as shown by the simulations below.\n",
    "\n"
   ]
  },
  {
   "cell_type": "markdown",
   "metadata": {
    "id": "XBCRj2vj9Po4"
   },
   "source": [
    "To decrease the influence of the repulsive term when the robot is not close to the obstacle, we consider the case where the gain $k_o$ is a function that changes with the distance from the obstacle, according to\n",
    "\n",
    "$$\n",
    "k_o(d) = \\bar k_o e^{-c d^2}\n",
    "$$\n",
    "\n",
    "where $\\bar k_o, c$ are some positive constants."
   ]
  },
  {
   "cell_type": "code",
   "execution_count": 23,
   "metadata": {
    "colab": {
     "base_uri": "https://localhost:8080/",
     "height": 17
    },
    "id": "aZY3l1r2tn0Q",
    "outputId": "69befd8b-a3c2-40e6-9f40-ceb886aadbde"
   },
   "outputs": [
    {
     "data": {
      "image/png": "[encoded data removed]",
      "text/plain": [
       "<Figure size 432x288 with 1 Axes>"
      ]
     },
     "metadata": {
      "needs_background": "light"
     },
     "output_type": "display_data"
    }
   ],
   "source": [
    "distance = np.linspace(0, 10, 1000)\n",
    "ko_list = np.zeros(len(distance))\n",
    "\n",
    "c = 0.5\n",
    "for k in range(len(distance)):\n",
    "    ko_list[k] = np.exp(- c*distance[k]**2)\n",
    "\n",
    "plt.figure()\n",
    "plt.plot(distance, ko_list, label='$k_o(d)$', color='g')\n",
    "\n",
    "plt.xlabel('distance $d$ [m]');\n",
    "plt.legend()\n",
    "plt.grid()\n",
    "plt.title('$k_o$');"
   ]
  },
  {
   "cell_type": "code",
   "execution_count": 24,
   "metadata": {
    "id": "5eA7J7Tw9XZu"
   },
   "outputs": [],
   "source": [
    "msg = rospy.wait_for_message('/odom0_obs' + team, Odometry, timeout=None)\n",
    "   \n",
    "# Dynamics: States=[x] Control=[u] where x_dot=u\n",
    "initial_state = [msg.pose.pose.position.x, msg.pose.pose.position.y]\n",
    "initial_control = [0.0, 0.0]\n",
    "\n",
    "dt = 0.1\n",
    "sim_time = 10\n",
    "time = []\n",
    "ux, uy = [], []\n",
    "x, y = [], []\n",
    "xdv, ydv = [], []\n",
    "\n",
    "kx, ky = 1, 1\n",
    "K = np.diag([kx,ky])\n",
    "Ko_init = 0.1*K\n",
    "c = 5\n",
    "\n",
    "# Obstacle\n",
    "xo = np.array([ 1.0, 1.0 ])\n",
    "radius = 0.5\n",
    "\n",
    "rospy.sleep(0.1)\n",
    "run = True\n",
    "if run:\n",
    "    for t in np.linspace(0.0, sim_time, num=int(sim_time/dt)):\n",
    "\n",
    "        # Time\n",
    "        time.append(t)\n",
    "        xid = np.array([ 1.5, 2.0 ])\n",
    "        dot_xid = np.array([ 0.0, 0.0 ])\n",
    "\n",
    "        # Get the state\n",
    "        noise_bias = 0.0\n",
    "        noise_std_deviation = 0.0\n",
    "        msg = rospy.wait_for_message('/odom0_obs' + team, Odometry, timeout=None)\n",
    "        state = [msg.pose.pose.position.x, msg.pose.pose.position.y] + np.random.normal(noise_bias,noise_std_deviation,2)\n",
    "\n",
    "        # Control law\n",
    "        distance = np.linalg.norm(state - xo) - radius    \n",
    "        ko = np.exp(-c*distance**2)\n",
    "        Ko = ko*Ko_init\n",
    "        u_control = - K @ ( state - xid ) + (1/distance**2)*Ko @ ( state - xo ) + dot_xid\n",
    "\n",
    "        # Send actuation commands\n",
    "        msg_act = Twist()\n",
    "        msg_act.linear.x = u_control[0]\n",
    "        msg_act.linear.y = u_control[1]\n",
    "        pub0_obs.publish(msg_act)\n",
    "\n",
    "        ux.append(u_control[0])\n",
    "        uy.append(u_control[1])\n",
    "        x.append(state[0])\n",
    "        y.append(state[1])\n",
    "        xdv.append(xid[0])\n",
    "        ydv.append(xid[1])\n",
    "    run = False\n",
    "    \n",
    "msg = Twist()\n",
    "msg.linear.x = 0.0\n",
    "msg.linear.y = 0.0\n",
    "pub0.publish(msg)"
   ]
  },
  {
   "cell_type": "code",
   "execution_count": 37,
   "metadata": {
    "colab": {
     "base_uri": "https://localhost:8080/",
     "height": 17
    },
    "id": "847mar8K9eB2",
    "outputId": "edc27b05-f94e-4372-e2c2-a64413a6ac7b"
   },
   "outputs": [
    {
     "data": {
      "image/png": "[encoded data removed]",
      "text/plain": [
       "<Figure size 432x288 with 1 Axes>"
      ]
     },
     "metadata": {
      "needs_background": "light"
     },
     "output_type": "display_data"
    }
   ],
   "source": [
    "circle = plt.Circle(xo, radius, color='g', label='obstacle')\n",
    "robot = plt.Circle(initial_state, 0.02, color='k', label='$(x(t),y(t))$')\n",
    "goal = plt.Circle(xid, 0.02, color='b', label='Goal')\n",
    "\n",
    "fig, ax = plt.subplots()\n",
    "\n",
    "ax.axis('equal')\n",
    "plt.xlim(-1,2.2)\n",
    "plt.ylim(-1,2.2)\n",
    "plt.grid()\n",
    "\n",
    "ax.add_patch(circle);\n",
    "ax.add_patch(robot);\n",
    "ax.add_patch(goal);\n",
    "\n",
    "\n",
    "plt.plot(x, y, color='k')\n",
    "plt.xlabel('$x$');\n",
    "plt.ylabel('$y$');\n",
    "plt.title('2D trajectory');\n",
    "plt.legend();\n",
    "\n"
   ]
  }
 ],
 "metadata": {
  "colab": {
   "collapsed_sections": [],
   "name": "single_agent.ipynb",
   "provenance": []
  },
  "kernelspec": {
   "display_name": "Python 3",
   "language": "python",
   "name": "python3"
  },
  "language_info": {
   "codemirror_mode": {
    "name": "ipython",
    "version": 3
   },
   "file_extension": ".py",
   "mimetype": "text/x-python",
   "name": "python",
   "nbconvert_exporter": "python",
   "pygments_lexer": "ipython3",
   "version": "3.8.10"
  }
 },
 "nbformat": 4,
 "nbformat_minor": 1
}
